{
 "cells": [
  {
   "cell_type": "code",
   "execution_count": 1,
   "id": "b9087870",
   "metadata": {
    "execution": {
     "iopub.execute_input": "2022-10-19T21:10:53.309885Z",
     "iopub.status.busy": "2022-10-19T21:10:53.309551Z",
     "iopub.status.idle": "2022-10-19T21:10:53.333734Z",
     "shell.execute_reply": "2022-10-19T21:10:53.332634Z",
     "shell.execute_reply.started": "2022-10-19T21:10:53.309816Z"
    },
    "tags": []
   },
   "outputs": [
    {
     "name": "stdout",
     "output_type": "stream",
     "text": [
      "env: CUDA_VISIBLE_DEVICES=6\n"
     ]
    }
   ],
   "source": [
    "%load_ext autoreload\n",
    "%autoreload 2\n",
    "\n",
    "%env CUDA_VISIBLE_DEVICES 6"
   ]
  },
  {
   "cell_type": "code",
   "execution_count": 2,
   "id": "433d8439",
   "metadata": {
    "execution": {
     "iopub.execute_input": "2022-10-19T21:10:53.336301Z",
     "iopub.status.busy": "2022-10-19T21:10:53.335632Z",
     "iopub.status.idle": "2022-10-19T21:10:55.808890Z",
     "shell.execute_reply": "2022-10-19T21:10:55.807867Z",
     "shell.execute_reply.started": "2022-10-19T21:10:53.336257Z"
    },
    "tags": []
   },
   "outputs": [],
   "source": [
    "import sys\n",
    "\n",
    "sys.path.insert(0, '../batchflow')\n",
    "sys.path.insert(0, '../src')\n",
    "\n",
    "import numpy as np\n",
    "import pandas as pd\n",
    "import lightgbm as lgb\n",
    "\n",
    "from batchflow import Pipeline, B, V, I, M, C, plot\n",
    "from batchflow.models.torch import TorchModel, VGGBlock\n",
    "from sklearn.cluster import KMeans\n",
    "from sklearn.decomposition import PCA\n",
    "\n",
    "from loader import ImagesDataset"
   ]
  },
  {
   "cell_type": "code",
   "execution_count": 3,
   "id": "2426df1e",
   "metadata": {
    "execution": {
     "iopub.execute_input": "2022-10-19T21:10:55.810042Z",
     "iopub.status.busy": "2022-10-19T21:10:55.809811Z",
     "iopub.status.idle": "2022-10-19T21:10:55.834711Z",
     "shell.execute_reply": "2022-10-19T21:10:55.834128Z",
     "shell.execute_reply.started": "2022-10-19T21:10:55.810022Z"
    },
    "tags": []
   },
   "outputs": [],
   "source": [
    "SEED = 11\n",
    "rng = np.random.default_rng(SEED)"
   ]
  },
  {
   "cell_type": "code",
   "execution_count": 4,
   "id": "a8b25151",
   "metadata": {
    "execution": {
     "iopub.execute_input": "2022-10-19T21:10:55.835782Z",
     "iopub.status.busy": "2022-10-19T21:10:55.835476Z",
     "iopub.status.idle": "2022-10-19T21:11:14.301717Z",
     "shell.execute_reply": "2022-10-19T21:11:14.300922Z",
     "shell.execute_reply.started": "2022-10-19T21:10:55.835762Z"
    },
    "tags": []
   },
   "outputs": [
    {
     "name": "stdout",
     "output_type": "stream",
     "text": [
      "100%|\u001b[38;2;76;175;80m█████████████████████████████████████████████\u001b[0m| 9/9 [00:18<00:00,  2.01s/it]\u001b[0m\n"
     ]
    }
   ],
   "source": [
    "DATA_PATH = '../images'\n",
    "SHAPE = (128, 128, 3)\n",
    "\n",
    "dataset = ImagesDataset(path=DATA_PATH, encode_labels=True, normalize=True, resize_shape=SHAPE)\n",
    "n_classes = dataset.label_encoder.classes_.size\n",
    "\n",
    "dataset.split(shuffle=SEED)"
   ]
  },
  {
   "cell_type": "code",
   "execution_count": 5,
   "id": "44349939-b6d3-416d-99ed-0f07b3ea1200",
   "metadata": {
    "execution": {
     "iopub.execute_input": "2022-10-19T21:11:14.303709Z",
     "iopub.status.busy": "2022-10-19T21:11:14.303432Z",
     "iopub.status.idle": "2022-10-19T21:11:16.440675Z",
     "shell.execute_reply": "2022-10-19T21:11:16.440026Z",
     "shell.execute_reply.started": "2022-10-19T21:11:14.303684Z"
    },
    "tags": []
   },
   "outputs": [],
   "source": [
    "MODEL_PATH = '../models/vgg.torch'\n",
    "model = TorchModel()\n",
    "model.load(MODEL_PATH)\n",
    "penultimate_module = model.model[1][-2]"
   ]
  },
  {
   "cell_type": "markdown",
   "id": "cb51b352-355a-4fc9-9fe2-abdf70678286",
   "metadata": {},
   "source": [
    "## "
   ]
  },
  {
   "cell_type": "code",
   "execution_count": 6,
   "id": "c73a4613-7182-4a15-9b2e-4d5d22128a2c",
   "metadata": {
    "execution": {
     "iopub.execute_input": "2022-10-19T21:11:16.441501Z",
     "iopub.status.busy": "2022-10-19T21:11:16.441367Z",
     "iopub.status.idle": "2022-10-19T21:11:25.118924Z",
     "shell.execute_reply": "2022-10-19T21:11:25.117583Z",
     "shell.execute_reply.started": "2022-10-19T21:11:16.441484Z"
    },
    "tags": []
   },
   "outputs": [
    {
     "name": "stdout",
     "output_type": "stream",
     "text": [
      "CPU times: user 814 ms, sys: 993 ms, total: 1.81 s\n",
      "Wall time: 8.64 s\n"
     ]
    }
   ],
   "source": [
    "%%time\n",
    "\n",
    "predict_template = (\n",
    "    Pipeline()\n",
    "    # prepare data\n",
    "    .to_array(channels='first', dtype=np.float32)\n",
    "\n",
    "    # initialize prediction and metrics containers\n",
    "    .init_variables('images', 'labels', 'proba', 'predictions', 'metrics')\n",
    "    \n",
    "    # import trained model\n",
    "    .import_model('model', model)\n",
    "    \n",
    "    # make predictions\n",
    "    .predict_model(name='model', inputs=B('images'),\n",
    "                   outputs=['predictions', 'predicted_proba'], save_to=[B('predictions'), B('proba')])\n",
    "    \n",
    "    # get penultimate layer activations\n",
    "    .call(model.get_intermediate_activations, inputs=B('images'),\n",
    "          layers=penultimate_module, save_to=B('activations'))\n",
    ")\n",
    "\n",
    "predict_pipeline_train = predict_template << dataset.train\n",
    "train_batch = predict_pipeline_train.next_batch(dataset.train.size)"
   ]
  },
  {
   "cell_type": "code",
   "execution_count": 7,
   "id": "5d0f78e1-4e44-4502-bdea-149b04413359",
   "metadata": {
    "execution": {
     "iopub.execute_input": "2022-10-19T21:11:25.121590Z",
     "iopub.status.busy": "2022-10-19T21:11:25.121199Z",
     "iopub.status.idle": "2022-10-19T21:11:30.121727Z",
     "shell.execute_reply": "2022-10-19T21:11:30.121333Z",
     "shell.execute_reply.started": "2022-10-19T21:11:25.121540Z"
    },
    "tags": []
   },
   "outputs": [
    {
     "name": "stdout",
     "output_type": "stream",
     "text": [
      "CPU times: user 1min 51s, sys: 1min 12s, total: 3min 4s\n",
      "Wall time: 4.96 s\n"
     ]
    }
   ],
   "source": [
    "%%time\n",
    "\n",
    "n_features = 10\n",
    "pca = PCA(n_components=n_features, random_state=SEED)\n",
    "train_features = train_batch.activations.reshape(dataset.train.size, -1)\n",
    "train_features_reduced = pca.fit_transform(train_features)\n",
    "train_data = lgb.Dataset(data=train_features_reduced, label=train_batch.labels)"
   ]
  },
  {
   "cell_type": "code",
   "execution_count": 15,
   "id": "185718c8-06e9-430f-8b85-9f4da3bf91e5",
   "metadata": {
    "execution": {
     "iopub.execute_input": "2022-10-19T21:12:48.731079Z",
     "iopub.status.busy": "2022-10-19T21:12:48.730647Z",
     "iopub.status.idle": "2022-10-19T21:12:49.800337Z",
     "shell.execute_reply": "2022-10-19T21:12:49.799551Z",
     "shell.execute_reply.started": "2022-10-19T21:12:48.731030Z"
    },
    "tags": []
   },
   "outputs": [
    {
     "name": "stdout",
     "output_type": "stream",
     "text": [
      "CPU times: user 1.9 s, sys: 1.08 s, total: 2.97 s\n",
      "Wall time: 1.03 s\n"
     ]
    }
   ],
   "source": [
    "%%time\n",
    "\n",
    "predict_pipeline_test = predict_template << dataset.test\n",
    "test_batch = predict_pipeline_test.next_batch(dataset.test.size)\n",
    "test_features = test_batch.activations.reshape(dataset.test.size, -1)\n",
    "test_features_reduced = pca.transform(test_features)\n",
    "test_data = lgb.Dataset(data=test_features_reduced, label=test_batch.labels)"
   ]
  },
  {
   "cell_type": "code",
   "execution_count": 17,
   "id": "4f31e052-5606-4a73-b002-1de40ad5ebac",
   "metadata": {
    "execution": {
     "iopub.execute_input": "2022-10-19T21:12:51.422888Z",
     "iopub.status.busy": "2022-10-19T21:12:51.422467Z",
     "iopub.status.idle": "2022-10-19T21:12:52.306222Z",
     "shell.execute_reply": "2022-10-19T21:12:52.305808Z",
     "shell.execute_reply.started": "2022-10-19T21:12:51.422837Z"
    },
    "tags": []
   },
   "outputs": [
    {
     "name": "stdout",
     "output_type": "stream",
     "text": [
      "[LightGBM] [Warning] Auto-choosing col-wise multi-threading, the overhead of testing was 0.002321 seconds.\n",
      "You can set `force_col_wise=true` to remove the overhead.\n",
      "[LightGBM] [Info] Total Bins 2550\n",
      "[LightGBM] [Info] Number of data points in the train set: 1138, number of used features: 10\n",
      "[LightGBM] [Info] Start training from score -3.066736\n",
      "[LightGBM] [Info] Start training from score -1.356855\n",
      "[LightGBM] [Info] Start training from score -1.769169\n",
      "[LightGBM] [Info] Start training from score -1.955623\n",
      "[LightGBM] [Info] Start training from score -1.883736\n",
      "[LightGBM] [Info] Start training from score -2.452060\n",
      "[LightGBM] [Info] Start training from score -3.011676\n",
      "[LightGBM] [Info] Start training from score -2.336547\n",
      "[LightGBM] [Warning] No further splits with positive gain, best gain: -inf\n",
      "[LightGBM] [Warning] No further splits with positive gain, best gain: -inf\n",
      "[LightGBM] [Warning] No further splits with positive gain, best gain: -inf\n",
      "[LightGBM] [Warning] No further splits with positive gain, best gain: -inf\n",
      "[LightGBM] [Warning] No further splits with positive gain, best gain: -inf\n",
      "[LightGBM] [Warning] No further splits with positive gain, best gain: -inf\n",
      "[LightGBM] [Warning] No further splits with positive gain, best gain: -inf\n",
      "[LightGBM] [Warning] No further splits with positive gain, best gain: -inf\n",
      "[1]\tvalid_0's multi_logloss: 1.70501\n",
      "[2]\tvalid_0's multi_logloss: 1.58651\n",
      "[3]\tvalid_0's multi_logloss: 1.50001\n",
      "[4]\tvalid_0's multi_logloss: 1.43282\n",
      "[5]\tvalid_0's multi_logloss: 1.38341\n",
      "[6]\tvalid_0's multi_logloss: 1.34587\n",
      "[7]\tvalid_0's multi_logloss: 1.32249\n",
      "[8]\tvalid_0's multi_logloss: 1.30175\n",
      "[9]\tvalid_0's multi_logloss: 1.28649\n",
      "[10]\tvalid_0's multi_logloss: 1.27682\n"
     ]
    }
   ],
   "source": [
    "train_config = {\n",
    "    'num_leaves': 31,\n",
    "    'objective': 'multiclass',\n",
    "    'num_class': n_classes\n",
    "}\n",
    "\n",
    "num_round = 10\n",
    "\n",
    "booster = lgb.train(\n",
    "    params=train_config,\n",
    "    train_set=train_data,\n",
    "    num_boost_round=num_round,\n",
    "    valid_sets=[test_data]\n",
    ")"
   ]
  },
  {
   "cell_type": "code",
   "execution_count": 18,
   "id": "4d298d8f-6176-4ca6-9e87-bd615ead11f7",
   "metadata": {
    "execution": {
     "iopub.execute_input": "2022-10-19T21:12:55.613994Z",
     "iopub.status.busy": "2022-10-19T21:12:55.613509Z",
     "iopub.status.idle": "2022-10-19T21:12:55.655193Z",
     "shell.execute_reply": "2022-10-19T21:12:55.654444Z",
     "shell.execute_reply.started": "2022-10-19T21:12:55.613943Z"
    },
    "tags": []
   },
   "outputs": [],
   "source": [
    "prediction = booster.predict(test_features_reduced)\n",
    "predicted_labels = prediction.argmax(axis=1)"
   ]
  },
  {
   "cell_type": "code",
   "execution_count": 19,
   "id": "9fcc6d6f-4521-4599-a846-29b7ed72a2a7",
   "metadata": {
    "execution": {
     "iopub.execute_input": "2022-10-19T21:12:56.781520Z",
     "iopub.status.busy": "2022-10-19T21:12:56.781147Z",
     "iopub.status.idle": "2022-10-19T21:12:56.813182Z",
     "shell.execute_reply": "2022-10-19T21:12:56.812581Z",
     "shell.execute_reply.started": "2022-10-19T21:12:56.781473Z"
    },
    "tags": []
   },
   "outputs": [],
   "source": [
    "from batchflow.models.metrics import ClassificationMetrics"
   ]
  },
  {
   "cell_type": "code",
   "execution_count": 21,
   "id": "0220e29f-37d5-4517-afe7-873478912de4",
   "metadata": {
    "execution": {
     "iopub.execute_input": "2022-10-19T21:13:07.476982Z",
     "iopub.status.busy": "2022-10-19T21:13:07.476575Z",
     "iopub.status.idle": "2022-10-19T21:13:08.667465Z",
     "shell.execute_reply": "2022-10-19T21:13:08.666826Z",
     "shell.execute_reply.started": "2022-10-19T21:13:07.476933Z"
    },
    "tags": []
   },
   "outputs": [
    {
     "data": {
      "image/png": "[encoded data removed]",
      "text/plain": [
       "<Figure size 576x576 with 2 Axes>"
      ]
     },
     "metadata": {},
     "output_type": "display_data"
    }
   ],
   "source": [
    "metrics = ClassificationMetrics(test_batch.labels, predicted_labels, fmt='labels', num_classes=n_classes)\n",
    "metrics.plot_confusion_matrix(normalize=True, vmin=0, vmax=1)"
   ]
  },
  {
   "cell_type": "code",
   "execution_count": 22,
   "id": "d3e3d15c-664c-4fa1-9561-74cde837e731",
   "metadata": {
    "execution": {
     "iopub.execute_input": "2022-10-19T21:13:12.036289Z",
     "iopub.status.busy": "2022-10-19T21:13:12.035896Z",
     "iopub.status.idle": "2022-10-19T21:13:12.356999Z",
     "shell.execute_reply": "2022-10-19T21:13:12.356158Z",
     "shell.execute_reply.started": "2022-10-19T21:13:12.036238Z"
    },
    "tags": []
   },
   "outputs": [
    {
     "data": {
      "text/html": [
       "<style  type=\"text/css\" >\n",
       "#T_d6d76718_4ff2_11ed_b640_0242ac110002row0_col3{\n",
       "            background-color:  #84ca66;\n",
       "            color:  #000000;\n",
       "        }#T_d6d76718_4ff2_11ed_b640_0242ac110002row0_col4,#T_d6d76718_4ff2_11ed_b640_0242ac110002row3_col4{\n",
       "            background-color:  #feffbe;\n",
       "            color:  #000000;\n",
       "        }#T_d6d76718_4ff2_11ed_b640_0242ac110002row1_col3{\n",
       "            background-color:  #fffdbc;\n",
       "            color:  #000000;\n",
       "        }#T_d6d76718_4ff2_11ed_b640_0242ac110002row1_col4{\n",
       "            background-color:  #36a657;\n",
       "            color:  #000000;\n",
       "        }#T_d6d76718_4ff2_11ed_b640_0242ac110002row2_col3{\n",
       "            background-color:  #d3ec87;\n",
       "            color:  #000000;\n",
       "        }#T_d6d76718_4ff2_11ed_b640_0242ac110002row2_col4{\n",
       "            background-color:  #fee491;\n",
       "            color:  #000000;\n",
       "        }#T_d6d76718_4ff2_11ed_b640_0242ac110002row3_col3{\n",
       "            background-color:  #96d268;\n",
       "            color:  #000000;\n",
       "        }#T_d6d76718_4ff2_11ed_b640_0242ac110002row4_col3{\n",
       "            background-color:  #5ab760;\n",
       "            color:  #000000;\n",
       "        }#T_d6d76718_4ff2_11ed_b640_0242ac110002row4_col4{\n",
       "            background-color:  #e2f397;\n",
       "            color:  #000000;\n",
       "        }#T_d6d76718_4ff2_11ed_b640_0242ac110002row5_col3{\n",
       "            background-color:  #eef8a8;\n",
       "            color:  #000000;\n",
       "        }#T_d6d76718_4ff2_11ed_b640_0242ac110002row5_col4,#T_d6d76718_4ff2_11ed_b640_0242ac110002row7_col3{\n",
       "            background-color:  #c9e881;\n",
       "            color:  #000000;\n",
       "        }#T_d6d76718_4ff2_11ed_b640_0242ac110002row6_col3{\n",
       "            background-color:  #a5d86a;\n",
       "            color:  #000000;\n",
       "        }#T_d6d76718_4ff2_11ed_b640_0242ac110002row6_col4{\n",
       "            background-color:  #fed07e;\n",
       "            color:  #000000;\n",
       "        }#T_d6d76718_4ff2_11ed_b640_0242ac110002row7_col4{\n",
       "            background-color:  #ddf191;\n",
       "            color:  #000000;\n",
       "        }</style><table id=\"T_d6d76718_4ff2_11ed_b640_0242ac110002\" ><thead>    <tr>        <th class=\"blank level0\" ></th>        <th class=\"col_heading level0 col0\" >names</th>        <th class=\"col_heading level0 col1\" >counts</th>        <th class=\"col_heading level0 col2\" >shares</th>        <th class=\"col_heading level0 col3\" >precision</th>        <th class=\"col_heading level0 col4\" >recall</th>    </tr></thead><tbody>\n",
       "                <tr>\n",
       "                        <th id=\"T_d6d76718_4ff2_11ed_b640_0242ac110002level0_row0\" class=\"row_heading level0 row0\" >0</th>\n",
       "                        <td id=\"T_d6d76718_4ff2_11ed_b640_0242ac110002row0_col0\" class=\"data row0 col0\" >ArtDeco</td>\n",
       "                        <td id=\"T_d6d76718_4ff2_11ed_b640_0242ac110002row0_col1\" class=\"data row0 col1\" >12</td>\n",
       "                        <td id=\"T_d6d76718_4ff2_11ed_b640_0242ac110002row0_col2\" class=\"data row0 col2\" >0.042254</td>\n",
       "                        <td id=\"T_d6d76718_4ff2_11ed_b640_0242ac110002row0_col3\" class=\"data row0 col3\" >75%</td>\n",
       "                        <td id=\"T_d6d76718_4ff2_11ed_b640_0242ac110002row0_col4\" class=\"data row0 col4\" >50%</td>\n",
       "            </tr>\n",
       "            <tr>\n",
       "                        <th id=\"T_d6d76718_4ff2_11ed_b640_0242ac110002level0_row1\" class=\"row_heading level0 row1\" >1</th>\n",
       "                        <td id=\"T_d6d76718_4ff2_11ed_b640_0242ac110002row1_col0\" class=\"data row1 col0\" >Cubism</td>\n",
       "                        <td id=\"T_d6d76718_4ff2_11ed_b640_0242ac110002row1_col1\" class=\"data row1 col1\" >72</td>\n",
       "                        <td id=\"T_d6d76718_4ff2_11ed_b640_0242ac110002row1_col2\" class=\"data row1 col2\" >0.253521</td>\n",
       "                        <td id=\"T_d6d76718_4ff2_11ed_b640_0242ac110002row1_col3\" class=\"data row1 col3\" >49%</td>\n",
       "                        <td id=\"T_d6d76718_4ff2_11ed_b640_0242ac110002row1_col4\" class=\"data row1 col4\" >86%</td>\n",
       "            </tr>\n",
       "            <tr>\n",
       "                        <th id=\"T_d6d76718_4ff2_11ed_b640_0242ac110002level0_row2\" class=\"row_heading level0 row2\" >2</th>\n",
       "                        <td id=\"T_d6d76718_4ff2_11ed_b640_0242ac110002row2_col0\" class=\"data row2 col0\" >Impressionism</td>\n",
       "                        <td id=\"T_d6d76718_4ff2_11ed_b640_0242ac110002row2_col1\" class=\"data row2 col1\" >46</td>\n",
       "                        <td id=\"T_d6d76718_4ff2_11ed_b640_0242ac110002row2_col2\" class=\"data row2 col2\" >0.161972</td>\n",
       "                        <td id=\"T_d6d76718_4ff2_11ed_b640_0242ac110002row2_col3\" class=\"data row2 col3\" >61%</td>\n",
       "                        <td id=\"T_d6d76718_4ff2_11ed_b640_0242ac110002row2_col4\" class=\"data row2 col4\" >41%</td>\n",
       "            </tr>\n",
       "            <tr>\n",
       "                        <th id=\"T_d6d76718_4ff2_11ed_b640_0242ac110002level0_row3\" class=\"row_heading level0 row3\" >3</th>\n",
       "                        <td id=\"T_d6d76718_4ff2_11ed_b640_0242ac110002row3_col0\" class=\"data row3 col0\" >Japonism</td>\n",
       "                        <td id=\"T_d6d76718_4ff2_11ed_b640_0242ac110002row3_col1\" class=\"data row3 col1\" >42</td>\n",
       "                        <td id=\"T_d6d76718_4ff2_11ed_b640_0242ac110002row3_col2\" class=\"data row3 col2\" >0.147887</td>\n",
       "                        <td id=\"T_d6d76718_4ff2_11ed_b640_0242ac110002row3_col3\" class=\"data row3 col3\" >72%</td>\n",
       "                        <td id=\"T_d6d76718_4ff2_11ed_b640_0242ac110002row3_col4\" class=\"data row3 col4\" >50%</td>\n",
       "            </tr>\n",
       "            <tr>\n",
       "                        <th id=\"T_d6d76718_4ff2_11ed_b640_0242ac110002level0_row4\" class=\"row_heading level0 row4\" >4</th>\n",
       "                        <td id=\"T_d6d76718_4ff2_11ed_b640_0242ac110002row4_col0\" class=\"data row4 col0\" >Naturalism</td>\n",
       "                        <td id=\"T_d6d76718_4ff2_11ed_b640_0242ac110002row4_col1\" class=\"data row4 col1\" >45</td>\n",
       "                        <td id=\"T_d6d76718_4ff2_11ed_b640_0242ac110002row4_col2\" class=\"data row4 col2\" >0.158451</td>\n",
       "                        <td id=\"T_d6d76718_4ff2_11ed_b640_0242ac110002row4_col3\" class=\"data row4 col3\" >81%</td>\n",
       "                        <td id=\"T_d6d76718_4ff2_11ed_b640_0242ac110002row4_col4\" class=\"data row4 col4\" >57%</td>\n",
       "            </tr>\n",
       "            <tr>\n",
       "                        <th id=\"T_d6d76718_4ff2_11ed_b640_0242ac110002level0_row5\" class=\"row_heading level0 row5\" >5</th>\n",
       "                        <td id=\"T_d6d76718_4ff2_11ed_b640_0242ac110002row5_col0\" class=\"data row5 col0\" >Rococo</td>\n",
       "                        <td id=\"T_d6d76718_4ff2_11ed_b640_0242ac110002row5_col1\" class=\"data row5 col1\" >19</td>\n",
       "                        <td id=\"T_d6d76718_4ff2_11ed_b640_0242ac110002row5_col2\" class=\"data row5 col2\" >0.066901</td>\n",
       "                        <td id=\"T_d6d76718_4ff2_11ed_b640_0242ac110002row5_col3\" class=\"data row5 col3\" >54%</td>\n",
       "                        <td id=\"T_d6d76718_4ff2_11ed_b640_0242ac110002row5_col4\" class=\"data row5 col4\" >63%</td>\n",
       "            </tr>\n",
       "            <tr>\n",
       "                        <th id=\"T_d6d76718_4ff2_11ed_b640_0242ac110002level0_row6\" class=\"row_heading level0 row6\" >6</th>\n",
       "                        <td id=\"T_d6d76718_4ff2_11ed_b640_0242ac110002row6_col0\" class=\"data row6 col0\" >cartoon</td>\n",
       "                        <td id=\"T_d6d76718_4ff2_11ed_b640_0242ac110002row6_col1\" class=\"data row6 col1\" >19</td>\n",
       "                        <td id=\"T_d6d76718_4ff2_11ed_b640_0242ac110002row6_col2\" class=\"data row6 col2\" >0.066901</td>\n",
       "                        <td id=\"T_d6d76718_4ff2_11ed_b640_0242ac110002row6_col3\" class=\"data row6 col3\" >70%</td>\n",
       "                        <td id=\"T_d6d76718_4ff2_11ed_b640_0242ac110002row6_col4\" class=\"data row6 col4\" >36%</td>\n",
       "            </tr>\n",
       "            <tr>\n",
       "                        <th id=\"T_d6d76718_4ff2_11ed_b640_0242ac110002level0_row7\" class=\"row_heading level0 row7\" >7</th>\n",
       "                        <td id=\"T_d6d76718_4ff2_11ed_b640_0242ac110002row7_col0\" class=\"data row7 col0\" >photo</td>\n",
       "                        <td id=\"T_d6d76718_4ff2_11ed_b640_0242ac110002row7_col1\" class=\"data row7 col1\" >29</td>\n",
       "                        <td id=\"T_d6d76718_4ff2_11ed_b640_0242ac110002row7_col2\" class=\"data row7 col2\" >0.102113</td>\n",
       "                        <td id=\"T_d6d76718_4ff2_11ed_b640_0242ac110002row7_col3\" class=\"data row7 col3\" >62%</td>\n",
       "                        <td id=\"T_d6d76718_4ff2_11ed_b640_0242ac110002row7_col4\" class=\"data row7 col4\" >58%</td>\n",
       "            </tr>\n",
       "    </tbody></table>"
      ],
      "text/plain": [
       "<pandas.io.formats.style.Styler at 0x7f0a4c065640>"
      ]
     },
     "execution_count": 22,
     "metadata": {},
     "output_type": "execute_result"
    }
   ],
   "source": [
    "labels, counts = np.unique(dataset.labels[dataset.test.indices], return_counts=True)\n",
    "shares = counts / counts.sum()\n",
    "\n",
    "metrics_names = ['precision', 'recall']\n",
    "metrics_dict = metrics.evaluate(metrics_names, multiclass=None)\n",
    "metrics_df = pd.DataFrame({'names': dataset.label_encoder.classes_, 'counts': counts, 'shares': shares, **metrics_dict})\n",
    "\n",
    "formatter = lambda value: f\"{int(value * 100)}%\"\n",
    "metrics_df.style.background_gradient('RdYlGn', vmin=0, vmax=1, subset=metrics_names).format(formatter, subset=metrics_names)"
   ]
  },
  {
   "cell_type": "code",
   "execution_count": 23,
   "id": "1fe3d085-4dc9-4196-96de-b118a5322108",
   "metadata": {
    "execution": {
     "iopub.execute_input": "2022-10-19T21:13:12.787202Z",
     "iopub.status.busy": "2022-10-19T21:13:12.786811Z",
     "iopub.status.idle": "2022-10-19T21:13:12.838257Z",
     "shell.execute_reply": "2022-10-19T21:13:12.837528Z",
     "shell.execute_reply.started": "2022-10-19T21:13:12.787149Z"
    },
    "tags": []
   },
   "outputs": [
    {
     "data": {
      "text/html": [
       "<style  type=\"text/css\" >\n",
       "#T_d721af76_4ff2_11ed_b640_0242ac110002row0_col0{\n",
       "            background-color:  #d9ef8b;\n",
       "            color:  #000000;\n",
       "        }#T_d721af76_4ff2_11ed_b640_0242ac110002row0_col1{\n",
       "            background-color:  #d7ee8a;\n",
       "            color:  #000000;\n",
       "        }</style><table id=\"T_d721af76_4ff2_11ed_b640_0242ac110002\" ><thead>    <tr>        <th class=\"blank level0\" ></th>        <th class=\"col_heading level0 col0\" >accuracy</th>        <th class=\"col_heading level0 col1\" >f1_score</th>    </tr></thead><tbody>\n",
       "                <tr>\n",
       "                        <th id=\"T_d721af76_4ff2_11ed_b640_0242ac110002level0_row0\" class=\"row_heading level0 row0\" >0</th>\n",
       "                        <td id=\"T_d721af76_4ff2_11ed_b640_0242ac110002row0_col0\" class=\"data row0 col0\" >59%</td>\n",
       "                        <td id=\"T_d721af76_4ff2_11ed_b640_0242ac110002row0_col1\" class=\"data row0 col1\" >60%</td>\n",
       "            </tr>\n",
       "    </tbody></table>"
      ],
      "text/plain": [
       "<pandas.io.formats.style.Styler at 0x7f0a986e67c0>"
      ]
     },
     "execution_count": 23,
     "metadata": {},
     "output_type": "execute_result"
    }
   ],
   "source": [
    "metrics_names = ['accuracy', 'f1_score']\n",
    "metrics_values = [metrics.evaluate(metric_name) for metric_name in metrics_names]\n",
    "\n",
    "metrics_df = pd.DataFrame(data=metrics_values, index=metrics_names)\n",
    "metrics_df.T.style.background_gradient('RdYlGn', vmin=0, vmax=1).format(formatter)"
   ]
  },
  {
   "cell_type": "code",
   "execution_count": 24,
   "id": "ee66e7fe-582f-4486-a208-55a18d6dc21c",
   "metadata": {
    "execution": {
     "iopub.execute_input": "2022-10-19T21:13:17.225810Z",
     "iopub.status.busy": "2022-10-19T21:13:17.225422Z",
     "iopub.status.idle": "2022-10-19T21:13:17.263795Z",
     "shell.execute_reply": "2022-10-19T21:13:17.262856Z",
     "shell.execute_reply.started": "2022-10-19T21:13:17.225762Z"
    },
    "tags": []
   },
   "outputs": [],
   "source": [
    "METRICS_PATH = '../metrics/lgbm.npy'\n",
    "all_metrics = {**metrics_dict, **{key: value for key, value in zip(metrics_names, metrics_values)}}\n",
    "np.save(METRICS_PATH, all_metrics)"
   ]
  },
  {
   "cell_type": "code",
   "execution_count": null,
   "id": "e055c10e-ee5a-47b4-8804-2ece2bf9de8e",
   "metadata": {
    "execution": {
     "iopub.status.busy": "2022-10-19T21:11:33.567839Z",
     "iopub.status.idle": "2022-10-19T21:11:33.568050Z",
     "shell.execute_reply": "2022-10-19T21:11:33.567954Z",
     "shell.execute_reply.started": "2022-10-19T21:11:33.567944Z"
    },
    "tags": []
   },
   "outputs": [],
   "source": [
    "# labels = dataset.label_encoder.inverse_transform(batch.labels)\n",
    "# for cluster_num in range(n_classes):\n",
    "#     cluster_images = batch.images[clustered == cluster_num]\n",
    "#     cluster_images = list(cluster_images.transpose(0, 2, 3, 1))\n",
    "#     cluster_true_labels = labels[clustered == cluster_num].tolist()\n",
    "#     plot(cluster_images, title=cluster_true_labels, suptitle=f\"cluster: {cluster_num}\", suptitle_y=1, suptitle_size=30, combine='separate')"
   ]
  }
 ],
 "metadata": {
  "kernelspec": {
   "display_name": "Python 3 (ipykernel)",
   "language": "python",
   "name": "python3"
  },
  "language_info": {
   "codemirror_mode": {
    "name": "ipython",
    "version": 3
   },
   "file_extension": ".py",
   "mimetype": "text/x-python",
   "name": "python",
   "nbconvert_exporter": "python",
   "pygments_lexer": "ipython3",
   "version": "3.8.10"
  },
  "widgets": {
   "application/vnd.jupyter.widget-state+json": {
    "state": {},
    "version_major": 2,
    "version_minor": 0
   }
  }
 },
 "nbformat": 4,
 "nbformat_minor": 5
}
