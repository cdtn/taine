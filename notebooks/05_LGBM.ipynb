{
 "cells": [
  {
   "cell_type": "markdown",
   "id": "f7759ef1-e1ef-4dbe-928b-f3991febe12d",
   "metadata": {},
   "source": [
    "# LGBM classification of VGG embeddings"
   ]
  },
  {
   "cell_type": "code",
   "execution_count": 1,
   "id": "b9087870",
   "metadata": {
    "execution": {
     "iopub.execute_input": "2022-10-21T16:41:58.949672Z",
     "iopub.status.busy": "2022-10-21T16:41:58.949032Z",
     "iopub.status.idle": "2022-10-21T16:41:58.971660Z",
     "shell.execute_reply": "2022-10-21T16:41:58.970691Z",
     "shell.execute_reply.started": "2022-10-21T16:41:58.949588Z"
    },
    "tags": []
   },
   "outputs": [
    {
     "name": "stdout",
     "output_type": "stream",
     "text": [
      "env: CUDA_VISIBLE_DEVICES=0\n"
     ]
    }
   ],
   "source": [
    "%load_ext autoreload\n",
    "%autoreload 2\n",
    "\n",
    "%env CUDA_VISIBLE_DEVICES 0"
   ]
  },
  {
   "cell_type": "markdown",
   "id": "0ddc7641-f573-44a8-8c15-15c26782a3e7",
   "metadata": {},
   "source": [
    "Imports"
   ]
  },
  {
   "cell_type": "code",
   "execution_count": 13,
   "id": "433d8439",
   "metadata": {
    "execution": {
     "iopub.execute_input": "2022-10-21T16:44:02.025798Z",
     "iopub.status.busy": "2022-10-21T16:44:02.025308Z",
     "iopub.status.idle": "2022-10-21T16:44:02.073388Z",
     "shell.execute_reply": "2022-10-21T16:44:02.072273Z",
     "shell.execute_reply.started": "2022-10-21T16:44:02.025743Z"
    },
    "tags": []
   },
   "outputs": [],
   "source": [
    "import sys\n",
    "\n",
    "sys.path.insert(0, '../batchflow')\n",
    "sys.path.insert(0, '../src')\n",
    "\n",
    "import numpy as np\n",
    "import pandas as pd\n",
    "import lightgbm as lgb\n",
    "\n",
    "from batchflow import Pipeline, B, plot\n",
    "from batchflow.models.torch import TorchModel\n",
    "from sklearn.decomposition import PCA\n",
    "from nbtools.core import get_notebook_name\n",
    "\n",
    "from batchflow.models.metrics import ClassificationMetrics\n",
    "\n",
    "from loader import ImagesDataset\n",
    "from evaluator import MetricsEvaluator"
   ]
  },
  {
   "cell_type": "markdown",
   "id": "cae8fd93-31b6-489d-8b2e-fb1f6fd7be5d",
   "metadata": {},
   "source": [
    "Experiment name."
   ]
  },
  {
   "cell_type": "code",
   "execution_count": 3,
   "id": "f3b9e929-098b-49da-b84f-efcf03f62193",
   "metadata": {
    "execution": {
     "iopub.execute_input": "2022-10-21T16:42:01.476096Z",
     "iopub.status.busy": "2022-10-21T16:42:01.475953Z",
     "iopub.status.idle": "2022-10-21T16:42:01.607940Z",
     "shell.execute_reply": "2022-10-21T16:42:01.607260Z",
     "shell.execute_reply.started": "2022-10-21T16:42:01.476080Z"
    }
   },
   "outputs": [
    {
     "data": {
      "text/plain": [
       "'05_LGBM'"
      ]
     },
     "execution_count": 3,
     "metadata": {},
     "output_type": "execute_result"
    }
   ],
   "source": [
    "NAME = get_notebook_name()\n",
    "NAME"
   ]
  },
  {
   "cell_type": "markdown",
   "id": "180a2a5c-ae6a-449b-8d89-731d870015d9",
   "metadata": {},
   "source": [
    "Seed fixed."
   ]
  },
  {
   "cell_type": "code",
   "execution_count": 4,
   "id": "2426df1e",
   "metadata": {
    "execution": {
     "iopub.execute_input": "2022-10-21T16:42:01.609082Z",
     "iopub.status.busy": "2022-10-21T16:42:01.608826Z",
     "iopub.status.idle": "2022-10-21T16:42:01.637837Z",
     "shell.execute_reply": "2022-10-21T16:42:01.636995Z",
     "shell.execute_reply.started": "2022-10-21T16:42:01.609059Z"
    },
    "tags": []
   },
   "outputs": [],
   "source": [
    "SEED = 11\n",
    "rng = np.random.default_rng(SEED)"
   ]
  },
  {
   "cell_type": "markdown",
   "id": "a0995cfe-0061-48cb-9315-a84eb901bbf3",
   "metadata": {},
   "source": [
    "Load and preprocess data."
   ]
  },
  {
   "cell_type": "code",
   "execution_count": 5,
   "id": "a8b25151",
   "metadata": {
    "execution": {
     "iopub.execute_input": "2022-10-21T16:42:01.638736Z",
     "iopub.status.busy": "2022-10-21T16:42:01.638586Z",
     "iopub.status.idle": "2022-10-21T16:42:22.895305Z",
     "shell.execute_reply": "2022-10-21T16:42:22.894474Z",
     "shell.execute_reply.started": "2022-10-21T16:42:01.638717Z"
    },
    "tags": []
   },
   "outputs": [
    {
     "name": "stdout",
     "output_type": "stream",
     "text": [
      "100%|\u001b[38;2;76;175;80m█████████████████████████████████████████████\u001b[0m| 9/9 [00:21<00:00,  2.33s/it]\u001b[0m\n"
     ]
    }
   ],
   "source": [
    "DATA_PATH = '../images'\n",
    "SHAPE = (128, 128, 3)\n",
    "\n",
    "dataset = ImagesDataset(path=DATA_PATH, encode_labels=True, normalize=True, resize_shape=SHAPE)\n",
    "n_classes = dataset.label_encoder.classes_.size\n",
    "\n",
    "dataset.split(shuffle=SEED)"
   ]
  },
  {
   "cell_type": "markdown",
   "id": "7345cecb-77b1-40ab-b144-bca4566cc7c7",
   "metadata": {},
   "source": [
    "Load trained model"
   ]
  },
  {
   "cell_type": "code",
   "execution_count": 6,
   "id": "44349939-b6d3-416d-99ed-0f07b3ea1200",
   "metadata": {
    "execution": {
     "iopub.execute_input": "2022-10-21T16:42:22.896795Z",
     "iopub.status.busy": "2022-10-21T16:42:22.896638Z",
     "iopub.status.idle": "2022-10-21T16:42:24.912637Z",
     "shell.execute_reply": "2022-10-21T16:42:24.911965Z",
     "shell.execute_reply.started": "2022-10-21T16:42:22.896769Z"
    },
    "tags": []
   },
   "outputs": [
    {
     "name": "stdout",
     "output_type": "stream",
     "text": [
      "CPU times: user 1.29 s, sys: 682 ms, total: 1.97 s\n",
      "Wall time: 1.98 s\n"
     ]
    }
   ],
   "source": [
    "%%time\n",
    "\n",
    "MODEL_PATH = '../models/02_VGG.torch'\n",
    "model = TorchModel()\n",
    "model.load(MODEL_PATH)\n",
    "penultimate_module = model.model[1][-2]"
   ]
  },
  {
   "cell_type": "markdown",
   "id": "cb51b352-355a-4fc9-9fe2-abdf70678286",
   "metadata": {},
   "source": [
    "## "
   ]
  },
  {
   "cell_type": "markdown",
   "id": "737142a9-5310-40aa-a4c7-3a15f187cc68",
   "metadata": {},
   "source": [
    "Define and run pipeline that get us penultimate layer activations. Get them for train data."
   ]
  },
  {
   "cell_type": "code",
   "execution_count": 7,
   "id": "c73a4613-7182-4a15-9b2e-4d5d22128a2c",
   "metadata": {
    "execution": {
     "iopub.execute_input": "2022-10-21T16:42:24.913775Z",
     "iopub.status.busy": "2022-10-21T16:42:24.913477Z",
     "iopub.status.idle": "2022-10-21T16:42:33.434542Z",
     "shell.execute_reply": "2022-10-21T16:42:33.433883Z",
     "shell.execute_reply.started": "2022-10-21T16:42:24.913756Z"
    },
    "tags": []
   },
   "outputs": [
    {
     "name": "stdout",
     "output_type": "stream",
     "text": [
      "CPU times: user 781 ms, sys: 1.04 s, total: 1.82 s\n",
      "Wall time: 8.49 s\n"
     ]
    }
   ],
   "source": [
    "%%time\n",
    "\n",
    "predict_template = (\n",
    "    Pipeline()\n",
    "    # prepare data\n",
    "    .to_array(channels='first', dtype=np.float32)\n",
    "\n",
    "    # initialize prediction and metrics containers\n",
    "    .init_variables('images', 'labels', 'proba', 'predictions', 'metrics')\n",
    "    \n",
    "    # import trained model\n",
    "    .import_model('model', model)\n",
    "    \n",
    "    # make predictions\n",
    "    .predict_model(name='model', inputs=B('images'),\n",
    "                   outputs=['predictions', 'predicted_proba'], save_to=[B('predictions'), B('proba')])\n",
    "    \n",
    "    # get penultimate layer activations\n",
    "    .call(model.get_intermediate_activations, inputs=B('images'),\n",
    "          layers=penultimate_module, save_to=B('activations'))\n",
    ")\n",
    "\n",
    "predict_pipeline_train = predict_template << dataset.train\n",
    "train_batch = predict_pipeline_train.next_batch(dataset.train.size)"
   ]
  },
  {
   "cell_type": "markdown",
   "id": "ba086c84-b0e8-4e3e-af2e-f6434dd0c57a",
   "metadata": {},
   "source": [
    "Reduce train data activations to 100 features, make a train lgbm-specific dataset."
   ]
  },
  {
   "cell_type": "code",
   "execution_count": 8,
   "id": "5d0f78e1-4e44-4502-bdea-149b04413359",
   "metadata": {
    "execution": {
     "iopub.execute_input": "2022-10-21T16:42:33.435767Z",
     "iopub.status.busy": "2022-10-21T16:42:33.435431Z",
     "iopub.status.idle": "2022-10-21T16:42:44.442512Z",
     "shell.execute_reply": "2022-10-21T16:42:44.441793Z",
     "shell.execute_reply.started": "2022-10-21T16:42:33.435745Z"
    },
    "tags": []
   },
   "outputs": [
    {
     "name": "stdout",
     "output_type": "stream",
     "text": [
      "CPU times: user 3min 48s, sys: 3min 59s, total: 7min 48s\n",
      "Wall time: 11 s\n"
     ]
    }
   ],
   "source": [
    "%%time\n",
    "\n",
    "n_features = 100\n",
    "pca = PCA(n_components=n_features, random_state=SEED)\n",
    "train_features = train_batch.activations.reshape(dataset.train.size, -1)\n",
    "train_features_reduced = pca.fit_transform(train_features)\n",
    "train_data = lgb.Dataset(data=train_features_reduced, label=train_batch.labels)"
   ]
  },
  {
   "cell_type": "markdown",
   "id": "11ff59e8-9a2d-498a-836c-c358eb3be7b8",
   "metadata": {
    "execution": {
     "iopub.execute_input": "2022-10-21T16:49:15.988846Z",
     "iopub.status.busy": "2022-10-21T16:49:15.988335Z",
     "iopub.status.idle": "2022-10-21T16:49:16.048875Z",
     "shell.execute_reply": "2022-10-21T16:49:16.047510Z",
     "shell.execute_reply.started": "2022-10-21T16:49:15.988777Z"
    }
   },
   "source": [
    "Reduce test data activations to the same 100 features, make a test lgbm-specific dataset."
   ]
  },
  {
   "cell_type": "code",
   "execution_count": 9,
   "id": "185718c8-06e9-430f-8b85-9f4da3bf91e5",
   "metadata": {
    "execution": {
     "iopub.execute_input": "2022-10-21T16:42:44.443932Z",
     "iopub.status.busy": "2022-10-21T16:42:44.443595Z",
     "iopub.status.idle": "2022-10-21T16:42:47.065793Z",
     "shell.execute_reply": "2022-10-21T16:42:47.065279Z",
     "shell.execute_reply.started": "2022-10-21T16:42:44.443908Z"
    },
    "tags": []
   },
   "outputs": [
    {
     "name": "stdout",
     "output_type": "stream",
     "text": [
      "CPU times: user 6.81 s, sys: 2.11 s, total: 8.92 s\n",
      "Wall time: 2.59 s\n"
     ]
    }
   ],
   "source": [
    "%%time\n",
    "\n",
    "predict_pipeline_test = predict_template << dataset.test\n",
    "test_batch = predict_pipeline_test.next_batch(dataset.test.size)\n",
    "test_features = test_batch.activations.reshape(dataset.test.size, -1)\n",
    "test_features_reduced = pca.transform(test_features)\n",
    "test_data = lgb.Dataset(data=test_features_reduced, label=test_batch.labels)"
   ]
  },
  {
   "cell_type": "markdown",
   "id": "5cd7c075-8dd0-40ec-9d3c-007a7280c51e",
   "metadata": {},
   "source": [
    "Set training parameters, chosen during iterative research."
   ]
  },
  {
   "cell_type": "code",
   "execution_count": 10,
   "id": "4f31e052-5606-4a73-b002-1de40ad5ebac",
   "metadata": {
    "execution": {
     "iopub.execute_input": "2022-10-21T16:42:47.067084Z",
     "iopub.status.busy": "2022-10-21T16:42:47.066777Z",
     "iopub.status.idle": "2022-10-21T16:42:47.798586Z",
     "shell.execute_reply": "2022-10-21T16:42:47.798115Z",
     "shell.execute_reply.started": "2022-10-21T16:42:47.067059Z"
    },
    "tags": []
   },
   "outputs": [],
   "source": [
    "train_config = {\n",
    "    'num_leaves': 16,\n",
    "    'max_depth': 5,\n",
    "    'min_data_in_leaf': 20,\n",
    "    'objective': 'multiclass',\n",
    "    'num_class': n_classes,\n",
    "    'verbose': -1,\n",
    "}\n",
    "\n",
    "num_round = 50\n",
    "\n",
    "model = lgb.train(\n",
    "    params=train_config,\n",
    "    train_set=train_data,\n",
    "    num_boost_round=num_round,\n",
    "    valid_sets=[test_data],\n",
    "    verbose_eval=False\n",
    ")"
   ]
  },
  {
   "cell_type": "markdown",
   "id": "c8ce44dc-707d-41d9-9e61-294c560a4d6e",
   "metadata": {},
   "source": [
    "Make predictions via trained booster."
   ]
  },
  {
   "cell_type": "code",
   "execution_count": 11,
   "id": "4d298d8f-6176-4ca6-9e87-bd615ead11f7",
   "metadata": {
    "execution": {
     "iopub.execute_input": "2022-10-21T16:42:47.799940Z",
     "iopub.status.busy": "2022-10-21T16:42:47.799626Z",
     "iopub.status.idle": "2022-10-21T16:42:47.833941Z",
     "shell.execute_reply": "2022-10-21T16:42:47.833571Z",
     "shell.execute_reply.started": "2022-10-21T16:42:47.799918Z"
    },
    "tags": []
   },
   "outputs": [],
   "source": [
    "test_targets = test_batch.labels\n",
    "test_predictions_proba = model.predict(test_features_reduced)\n",
    "test_predictions = test_predictions_proba.argmax(axis=1)"
   ]
  },
  {
   "cell_type": "markdown",
   "id": "9f15c3ab-2b1a-4ce1-8b4b-ceb53f015d0c",
   "metadata": {
    "execution": {
     "iopub.execute_input": "2022-10-21T16:50:45.553622Z",
     "iopub.status.busy": "2022-10-21T16:50:45.553167Z",
     "iopub.status.idle": "2022-10-21T16:50:45.595384Z",
     "shell.execute_reply": "2022-10-21T16:50:45.594632Z",
     "shell.execute_reply.started": "2022-10-21T16:50:45.553571Z"
    }
   },
   "source": [
    "Evaluate metrics, save them."
   ]
  },
  {
   "cell_type": "code",
   "execution_count": 16,
   "id": "0220e29f-37d5-4517-afe7-873478912de4",
   "metadata": {
    "execution": {
     "iopub.execute_input": "2022-10-21T16:46:27.437765Z",
     "iopub.status.busy": "2022-10-21T16:46:27.437287Z",
     "iopub.status.idle": "2022-10-21T16:46:27.963480Z",
     "shell.execute_reply": "2022-10-21T16:46:27.962406Z",
     "shell.execute_reply.started": "2022-10-21T16:46:27.437699Z"
    },
    "tags": []
   },
   "outputs": [
    {
     "data": {
      "text/html": [
       "<style  type=\"text/css\" >\n",
       "#T_e81acb14_515f_11ed_9421_0242ac110002row0_col0{\n",
       "            background-color:  #fee08b;\n",
       "            color:  #000000;\n",
       "        }#T_e81acb14_515f_11ed_9421_0242ac110002row0_col1,#T_e81acb14_515f_11ed_9421_0242ac110002row3_col1{\n",
       "            background-color:  #feffbe;\n",
       "            color:  #000000;\n",
       "        }#T_e81acb14_515f_11ed_9421_0242ac110002row1_col0,#T_e81acb14_515f_11ed_9421_0242ac110002row4_col1{\n",
       "            background-color:  #9dd569;\n",
       "            color:  #000000;\n",
       "        }#T_e81acb14_515f_11ed_9421_0242ac110002row1_col1{\n",
       "            background-color:  #6bbf64;\n",
       "            color:  #000000;\n",
       "        }#T_e81acb14_515f_11ed_9421_0242ac110002row2_col0{\n",
       "            background-color:  #eef8a8;\n",
       "            color:  #000000;\n",
       "        }#T_e81acb14_515f_11ed_9421_0242ac110002row2_col1,#T_e81acb14_515f_11ed_9421_0242ac110002row5_col0{\n",
       "            background-color:  #bfe47a;\n",
       "            color:  #000000;\n",
       "        }#T_e81acb14_515f_11ed_9421_0242ac110002row3_col0{\n",
       "            background-color:  #c7e77f;\n",
       "            color:  #000000;\n",
       "        }#T_e81acb14_515f_11ed_9421_0242ac110002row4_col0{\n",
       "            background-color:  #66bd63;\n",
       "            color:  #000000;\n",
       "        }#T_e81acb14_515f_11ed_9421_0242ac110002row5_col1{\n",
       "            background-color:  #addc6f;\n",
       "            color:  #000000;\n",
       "        }#T_e81acb14_515f_11ed_9421_0242ac110002row6_col0{\n",
       "            background-color:  #73c264;\n",
       "            color:  #000000;\n",
       "        }#T_e81acb14_515f_11ed_9421_0242ac110002row6_col1{\n",
       "            background-color:  #fed07e;\n",
       "            color:  #000000;\n",
       "        }#T_e81acb14_515f_11ed_9421_0242ac110002row7_col0{\n",
       "            background-color:  #98d368;\n",
       "            color:  #000000;\n",
       "        }#T_e81acb14_515f_11ed_9421_0242ac110002row7_col1{\n",
       "            background-color:  #69be63;\n",
       "            color:  #000000;\n",
       "        }</style><table id=\"T_e81acb14_515f_11ed_9421_0242ac110002\" ><thead>    <tr>        <th class=\"blank level0\" ></th>        <th class=\"col_heading level0 col0\" >precision</th>        <th class=\"col_heading level0 col1\" >recall</th>    </tr></thead><tbody>\n",
       "                <tr>\n",
       "                        <th id=\"T_e81acb14_515f_11ed_9421_0242ac110002level0_row0\" class=\"row_heading level0 row0\" >ArtDeco</th>\n",
       "                        <td id=\"T_e81acb14_515f_11ed_9421_0242ac110002row0_col0\" class=\"data row0 col0\" >40.0</td>\n",
       "                        <td id=\"T_e81acb14_515f_11ed_9421_0242ac110002row0_col1\" class=\"data row0 col1\" >50.0</td>\n",
       "            </tr>\n",
       "            <tr>\n",
       "                        <th id=\"T_e81acb14_515f_11ed_9421_0242ac110002level0_row1\" class=\"row_heading level0 row1\" >Cubism</th>\n",
       "                        <td id=\"T_e81acb14_515f_11ed_9421_0242ac110002row1_col0\" class=\"data row1 col0\" >71.2</td>\n",
       "                        <td id=\"T_e81acb14_515f_11ed_9421_0242ac110002row1_col1\" class=\"data row1 col1\" >79.2</td>\n",
       "            </tr>\n",
       "            <tr>\n",
       "                        <th id=\"T_e81acb14_515f_11ed_9421_0242ac110002level0_row2\" class=\"row_heading level0 row2\" >Impressionism</th>\n",
       "                        <td id=\"T_e81acb14_515f_11ed_9421_0242ac110002row2_col0\" class=\"data row2 col0\" >54.5</td>\n",
       "                        <td id=\"T_e81acb14_515f_11ed_9421_0242ac110002row2_col1\" class=\"data row2 col1\" >65.2</td>\n",
       "            </tr>\n",
       "            <tr>\n",
       "                        <th id=\"T_e81acb14_515f_11ed_9421_0242ac110002level0_row3\" class=\"row_heading level0 row3\" >Japonism</th>\n",
       "                        <td id=\"T_e81acb14_515f_11ed_9421_0242ac110002row3_col0\" class=\"data row3 col0\" >63.6</td>\n",
       "                        <td id=\"T_e81acb14_515f_11ed_9421_0242ac110002row3_col1\" class=\"data row3 col1\" >50.0</td>\n",
       "            </tr>\n",
       "            <tr>\n",
       "                        <th id=\"T_e81acb14_515f_11ed_9421_0242ac110002level0_row4\" class=\"row_heading level0 row4\" >Naturalism</th>\n",
       "                        <td id=\"T_e81acb14_515f_11ed_9421_0242ac110002row4_col0\" class=\"data row4 col0\" >80.0</td>\n",
       "                        <td id=\"T_e81acb14_515f_11ed_9421_0242ac110002row4_col1\" class=\"data row4 col1\" >71.1</td>\n",
       "            </tr>\n",
       "            <tr>\n",
       "                        <th id=\"T_e81acb14_515f_11ed_9421_0242ac110002level0_row5\" class=\"row_heading level0 row5\" >Rococo</th>\n",
       "                        <td id=\"T_e81acb14_515f_11ed_9421_0242ac110002row5_col0\" class=\"data row5 col0\" >65.0</td>\n",
       "                        <td id=\"T_e81acb14_515f_11ed_9421_0242ac110002row5_col1\" class=\"data row5 col1\" >68.4</td>\n",
       "            </tr>\n",
       "            <tr>\n",
       "                        <th id=\"T_e81acb14_515f_11ed_9421_0242ac110002level0_row6\" class=\"row_heading level0 row6\" >cartoon</th>\n",
       "                        <td id=\"T_e81acb14_515f_11ed_9421_0242ac110002row6_col0\" class=\"data row6 col0\" >77.8</td>\n",
       "                        <td id=\"T_e81acb14_515f_11ed_9421_0242ac110002row6_col1\" class=\"data row6 col1\" >36.8</td>\n",
       "            </tr>\n",
       "            <tr>\n",
       "                        <th id=\"T_e81acb14_515f_11ed_9421_0242ac110002level0_row7\" class=\"row_heading level0 row7\" >photo</th>\n",
       "                        <td id=\"T_e81acb14_515f_11ed_9421_0242ac110002row7_col0\" class=\"data row7 col0\" >71.9</td>\n",
       "                        <td id=\"T_e81acb14_515f_11ed_9421_0242ac110002row7_col1\" class=\"data row7 col1\" >79.3</td>\n",
       "            </tr>\n",
       "    </tbody></table>"
      ],
      "text/plain": [
       "<pandas.io.formats.style.Styler at 0x7f5c85e38bb0>"
      ]
     },
     "metadata": {},
     "output_type": "display_data"
    },
    {
     "data": {
      "text/html": [
       "<style  type=\"text/css\" >\n",
       "#T_e81c6226_515f_11ed_9421_0242ac110002row0_col0{\n",
       "            background-color:  #b7e075;\n",
       "            color:  #000000;\n",
       "        }#T_e81c6226_515f_11ed_9421_0242ac110002row0_col1{\n",
       "            background-color:  #c5e67e;\n",
       "            color:  #000000;\n",
       "        }</style><table id=\"T_e81c6226_515f_11ed_9421_0242ac110002\" ><thead>    <tr>        <th class=\"blank level0\" ></th>        <th class=\"col_heading level0 col0\" >accuracy</th>        <th class=\"col_heading level0 col1\" >f1_score</th>    </tr></thead><tbody>\n",
       "                <tr>\n",
       "                        <th id=\"T_e81c6226_515f_11ed_9421_0242ac110002level0_row0\" class=\"row_heading level0 row0\" >altogether</th>\n",
       "                        <td id=\"T_e81c6226_515f_11ed_9421_0242ac110002row0_col0\" class=\"data row0 col0\" >66.5</td>\n",
       "                        <td id=\"T_e81c6226_515f_11ed_9421_0242ac110002row0_col1\" class=\"data row0 col1\" >64.0</td>\n",
       "            </tr>\n",
       "    </tbody></table>"
      ],
      "text/plain": [
       "<pandas.io.formats.style.Styler at 0x7f5efe6d7f10>"
      ]
     },
     "metadata": {},
     "output_type": "display_data"
    },
    {
     "data": {
      "image/png": "[encoded data removed]",
      "text/plain": [
       "<Figure size 576x576 with 2 Axes>"
      ]
     },
     "metadata": {},
     "output_type": "display_data"
    }
   ],
   "source": [
    "METRICS_PATH = f'../metrics/{NAME}.json'\n",
    "\n",
    "evaluator = MetricsEvaluator(targets=test_targets, predictions=test_predictions, classes=dataset.classes)\n",
    "classification_metrics = evaluator.evaluate_classification_metrics(show=True, savepath=METRICS_PATH)"
   ]
  }
 ],
 "metadata": {
  "kernelspec": {
   "display_name": "Python 3 (ipykernel)",
   "language": "python",
   "name": "python3"
  },
  "language_info": {
   "codemirror_mode": {
    "name": "ipython",
    "version": 3
   },
   "file_extension": ".py",
   "mimetype": "text/x-python",
   "name": "python",
   "nbconvert_exporter": "python",
   "pygments_lexer": "ipython3",
   "version": "3.8.10"
  },
  "widgets": {
   "application/vnd.jupyter.widget-state+json": {
    "state": {},
    "version_major": 2,
    "version_minor": 0
   }
  }
 },
 "nbformat": 4,
 "nbformat_minor": 5
}
