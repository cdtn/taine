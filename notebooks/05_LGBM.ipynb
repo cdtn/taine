{
 "cells": [
  {
   "cell_type": "code",
   "execution_count": 1,
   "id": "b9087870",
   "metadata": {
    "execution": {
     "iopub.execute_input": "2022-10-20T19:28:35.037904Z",
     "iopub.status.busy": "2022-10-20T19:28:35.037046Z",
     "iopub.status.idle": "2022-10-20T19:28:35.063970Z",
     "shell.execute_reply": "2022-10-20T19:28:35.063085Z",
     "shell.execute_reply.started": "2022-10-20T19:28:35.037780Z"
    },
    "tags": []
   },
   "outputs": [
    {
     "name": "stdout",
     "output_type": "stream",
     "text": [
      "env: CUDA_VISIBLE_DEVICES=0\n"
     ]
    }
   ],
   "source": [
    "%load_ext autoreload\n",
    "%autoreload 2\n",
    "\n",
    "%env CUDA_VISIBLE_DEVICES 0"
   ]
  },
  {
   "cell_type": "code",
   "execution_count": 2,
   "id": "433d8439",
   "metadata": {
    "execution": {
     "iopub.execute_input": "2022-10-20T19:28:35.065407Z",
     "iopub.status.busy": "2022-10-20T19:28:35.065160Z",
     "iopub.status.idle": "2022-10-20T19:28:37.608069Z",
     "shell.execute_reply": "2022-10-20T19:28:37.607172Z",
     "shell.execute_reply.started": "2022-10-20T19:28:35.065378Z"
    },
    "tags": []
   },
   "outputs": [],
   "source": [
    "import sys\n",
    "\n",
    "sys.path.insert(0, '../batchflow')\n",
    "sys.path.insert(0, '../src')\n",
    "\n",
    "import numpy as np\n",
    "import pandas as pd\n",
    "import lightgbm as lgb\n",
    "\n",
    "from batchflow import Pipeline, B, plot\n",
    "from batchflow.models.torch import TorchModel\n",
    "from sklearn.decomposition import PCA\n",
    "from nbtools.core import get_notebook_name\n",
    "\n",
    "from batchflow.models.metrics import ClassificationMetrics\n",
    "\n",
    "from loader import ImagesDataset"
   ]
  },
  {
   "cell_type": "code",
   "execution_count": 3,
   "id": "f3b9e929-098b-49da-b84f-efcf03f62193",
   "metadata": {
    "execution": {
     "iopub.execute_input": "2022-10-20T19:28:37.609656Z",
     "iopub.status.busy": "2022-10-20T19:28:37.609516Z",
     "iopub.status.idle": "2022-10-20T19:28:37.740676Z",
     "shell.execute_reply": "2022-10-20T19:28:37.739949Z",
     "shell.execute_reply.started": "2022-10-20T19:28:37.609639Z"
    }
   },
   "outputs": [
    {
     "data": {
      "text/plain": [
       "'05_LGBM'"
      ]
     },
     "execution_count": 3,
     "metadata": {},
     "output_type": "execute_result"
    }
   ],
   "source": [
    "NAME = get_notebook_name()\n",
    "NAME"
   ]
  },
  {
   "cell_type": "code",
   "execution_count": 4,
   "id": "2426df1e",
   "metadata": {
    "execution": {
     "iopub.execute_input": "2022-10-20T19:28:37.741669Z",
     "iopub.status.busy": "2022-10-20T19:28:37.741448Z",
     "iopub.status.idle": "2022-10-20T19:28:37.767073Z",
     "shell.execute_reply": "2022-10-20T19:28:37.766460Z",
     "shell.execute_reply.started": "2022-10-20T19:28:37.741651Z"
    },
    "tags": []
   },
   "outputs": [],
   "source": [
    "SEED = 11\n",
    "rng = np.random.default_rng(SEED)"
   ]
  },
  {
   "cell_type": "code",
   "execution_count": 5,
   "id": "a8b25151",
   "metadata": {
    "execution": {
     "iopub.execute_input": "2022-10-20T19:28:37.767883Z",
     "iopub.status.busy": "2022-10-20T19:28:37.767761Z",
     "iopub.status.idle": "2022-10-20T19:28:55.690209Z",
     "shell.execute_reply": "2022-10-20T19:28:55.689220Z",
     "shell.execute_reply.started": "2022-10-20T19:28:37.767869Z"
    },
    "tags": []
   },
   "outputs": [
    {
     "name": "stdout",
     "output_type": "stream",
     "text": [
      "100%|\u001b[38;2;76;175;80m█████████████████████████████████████████████\u001b[0m| 9/9 [00:17<00:00,  1.96s/it]\u001b[0m\n"
     ]
    }
   ],
   "source": [
    "DATA_PATH = '../images'\n",
    "SHAPE = (128, 128, 3)\n",
    "\n",
    "dataset = ImagesDataset(path=DATA_PATH, encode_labels=True, normalize=True, resize_shape=SHAPE)\n",
    "n_classes = dataset.label_encoder.classes_.size\n",
    "\n",
    "dataset.split(shuffle=SEED)"
   ]
  },
  {
   "cell_type": "code",
   "execution_count": 6,
   "id": "44349939-b6d3-416d-99ed-0f07b3ea1200",
   "metadata": {
    "execution": {
     "iopub.execute_input": "2022-10-20T19:28:55.691565Z",
     "iopub.status.busy": "2022-10-20T19:28:55.691392Z",
     "iopub.status.idle": "2022-10-20T19:28:57.753683Z",
     "shell.execute_reply": "2022-10-20T19:28:57.752714Z",
     "shell.execute_reply.started": "2022-10-20T19:28:55.691542Z"
    },
    "tags": []
   },
   "outputs": [
    {
     "name": "stdout",
     "output_type": "stream",
     "text": [
      "CPU times: user 1.31 s, sys: 709 ms, total: 2.02 s\n",
      "Wall time: 2.02 s\n"
     ]
    }
   ],
   "source": [
    "%%time\n",
    "\n",
    "MODEL_PATH = '../models/vgg.torch'\n",
    "model = TorchModel()\n",
    "model.load(MODEL_PATH)\n",
    "penultimate_module = model.model[1][-2]"
   ]
  },
  {
   "cell_type": "markdown",
   "id": "cb51b352-355a-4fc9-9fe2-abdf70678286",
   "metadata": {},
   "source": [
    "## "
   ]
  },
  {
   "cell_type": "code",
   "execution_count": 7,
   "id": "c73a4613-7182-4a15-9b2e-4d5d22128a2c",
   "metadata": {
    "execution": {
     "iopub.execute_input": "2022-10-20T19:28:57.755125Z",
     "iopub.status.busy": "2022-10-20T19:28:57.754848Z",
     "iopub.status.idle": "2022-10-20T19:29:06.290648Z",
     "shell.execute_reply": "2022-10-20T19:29:06.289699Z",
     "shell.execute_reply.started": "2022-10-20T19:28:57.755105Z"
    },
    "tags": []
   },
   "outputs": [
    {
     "name": "stdout",
     "output_type": "stream",
     "text": [
      "CPU times: user 796 ms, sys: 1.01 s, total: 1.81 s\n",
      "Wall time: 8.51 s\n"
     ]
    }
   ],
   "source": [
    "%%time\n",
    "\n",
    "predict_template = (\n",
    "    Pipeline()\n",
    "    # prepare data\n",
    "    .to_array(channels='first', dtype=np.float32)\n",
    "\n",
    "    # initialize prediction and metrics containers\n",
    "    .init_variables('images', 'labels', 'proba', 'predictions', 'metrics')\n",
    "    \n",
    "    # import trained model\n",
    "    .import_model('model', model)\n",
    "    \n",
    "    # make predictions\n",
    "    .predict_model(name='model', inputs=B('images'),\n",
    "                   outputs=['predictions', 'predicted_proba'], save_to=[B('predictions'), B('proba')])\n",
    "    \n",
    "    # get penultimate layer activations\n",
    "    .call(model.get_intermediate_activations, inputs=B('images'),\n",
    "          layers=penultimate_module, save_to=B('activations'))\n",
    ")\n",
    "\n",
    "predict_pipeline_train = predict_template << dataset.train\n",
    "train_batch = predict_pipeline_train.next_batch(dataset.train.size)"
   ]
  },
  {
   "cell_type": "code",
   "execution_count": 8,
   "id": "5d0f78e1-4e44-4502-bdea-149b04413359",
   "metadata": {
    "execution": {
     "iopub.execute_input": "2022-10-20T19:29:06.292134Z",
     "iopub.status.busy": "2022-10-20T19:29:06.291918Z",
     "iopub.status.idle": "2022-10-20T19:29:17.266601Z",
     "shell.execute_reply": "2022-10-20T19:29:17.265825Z",
     "shell.execute_reply.started": "2022-10-20T19:29:06.292109Z"
    },
    "tags": []
   },
   "outputs": [
    {
     "name": "stdout",
     "output_type": "stream",
     "text": [
      "CPU times: user 3min 37s, sys: 4min 2s, total: 7min 40s\n",
      "Wall time: 10.9 s\n"
     ]
    }
   ],
   "source": [
    "%%time\n",
    "\n",
    "n_features = 100\n",
    "pca = PCA(n_components=n_features, random_state=SEED)\n",
    "train_features = train_batch.activations.reshape(dataset.train.size, -1)\n",
    "train_features_reduced = pca.fit_transform(train_features)\n",
    "train_data = lgb.Dataset(data=train_features_reduced, label=train_batch.labels)"
   ]
  },
  {
   "cell_type": "code",
   "execution_count": 9,
   "id": "185718c8-06e9-430f-8b85-9f4da3bf91e5",
   "metadata": {
    "execution": {
     "iopub.execute_input": "2022-10-20T19:29:17.268050Z",
     "iopub.status.busy": "2022-10-20T19:29:17.267821Z",
     "iopub.status.idle": "2022-10-20T19:29:19.966716Z",
     "shell.execute_reply": "2022-10-20T19:29:19.966168Z",
     "shell.execute_reply.started": "2022-10-20T19:29:17.268029Z"
    },
    "tags": []
   },
   "outputs": [
    {
     "name": "stdout",
     "output_type": "stream",
     "text": [
      "CPU times: user 6.85 s, sys: 1.97 s, total: 8.81 s\n",
      "Wall time: 2.66 s\n"
     ]
    }
   ],
   "source": [
    "%%time\n",
    "\n",
    "predict_pipeline_test = predict_template << dataset.test\n",
    "test_batch = predict_pipeline_test.next_batch(dataset.test.size)\n",
    "test_features = test_batch.activations.reshape(dataset.test.size, -1)\n",
    "test_features_reduced = pca.transform(test_features)\n",
    "test_data = lgb.Dataset(data=test_features_reduced, label=test_batch.labels)"
   ]
  },
  {
   "cell_type": "code",
   "execution_count": 10,
   "id": "4f31e052-5606-4a73-b002-1de40ad5ebac",
   "metadata": {
    "execution": {
     "iopub.execute_input": "2022-10-20T19:29:19.968043Z",
     "iopub.status.busy": "2022-10-20T19:29:19.967856Z",
     "iopub.status.idle": "2022-10-20T19:29:21.098002Z",
     "shell.execute_reply": "2022-10-20T19:29:21.097517Z",
     "shell.execute_reply.started": "2022-10-20T19:29:19.968022Z"
    },
    "tags": []
   },
   "outputs": [],
   "source": [
    "train_config = {\n",
    "    'num_leaves': 16,\n",
    "    'max_depth': 5,\n",
    "    'min_data_in_leaf': 20,\n",
    "    'objective': 'multiclass',\n",
    "    'num_class': n_classes,\n",
    "    'verbose': -1,\n",
    "}\n",
    "\n",
    "num_round = 50\n",
    "\n",
    "model = lgb.train(\n",
    "    params=train_config,\n",
    "    train_set=train_data,\n",
    "    num_boost_round=num_round,\n",
    "    valid_sets=[test_data],\n",
    "    verbose_eval=False\n",
    ")"
   ]
  },
  {
   "cell_type": "code",
   "execution_count": 11,
   "id": "4d298d8f-6176-4ca6-9e87-bd615ead11f7",
   "metadata": {
    "execution": {
     "iopub.execute_input": "2022-10-20T19:29:21.099324Z",
     "iopub.status.busy": "2022-10-20T19:29:21.099158Z",
     "iopub.status.idle": "2022-10-20T19:29:21.135104Z",
     "shell.execute_reply": "2022-10-20T19:29:21.134535Z",
     "shell.execute_reply.started": "2022-10-20T19:29:21.099301Z"
    },
    "tags": []
   },
   "outputs": [],
   "source": [
    "prediction = model.predict(test_features_reduced)\n",
    "predicted_labels = prediction.argmax(axis=1)"
   ]
  },
  {
   "cell_type": "code",
   "execution_count": 12,
   "id": "0220e29f-37d5-4517-afe7-873478912de4",
   "metadata": {
    "execution": {
     "iopub.execute_input": "2022-10-20T19:29:21.137862Z",
     "iopub.status.busy": "2022-10-20T19:29:21.137703Z",
     "iopub.status.idle": "2022-10-20T19:29:22.367739Z",
     "shell.execute_reply": "2022-10-20T19:29:22.367336Z",
     "shell.execute_reply.started": "2022-10-20T19:29:21.137844Z"
    },
    "tags": []
   },
   "outputs": [
    {
     "data": {
      "image/png": "[encoded data removed]",
      "text/plain": [
       "<Figure size 576x576 with 2 Axes>"
      ]
     },
     "metadata": {},
     "output_type": "display_data"
    }
   ],
   "source": [
    "metrics = ClassificationMetrics(test_batch.labels, predicted_labels, fmt='labels', num_classes=n_classes)\n",
    "metrics.plot_confusion_matrix(normalize=True, vmin=0, vmax=1)"
   ]
  },
  {
   "cell_type": "code",
   "execution_count": 13,
   "id": "d3e3d15c-664c-4fa1-9561-74cde837e731",
   "metadata": {
    "execution": {
     "iopub.execute_input": "2022-10-20T19:29:22.368631Z",
     "iopub.status.busy": "2022-10-20T19:29:22.368431Z",
     "iopub.status.idle": "2022-10-20T19:29:22.611934Z",
     "shell.execute_reply": "2022-10-20T19:29:22.611509Z",
     "shell.execute_reply.started": "2022-10-20T19:29:22.368614Z"
    },
    "tags": []
   },
   "outputs": [
    {
     "data": {
      "text/html": [
       "<style  type=\"text/css\" >\n",
       "#T_8009cf6e_50ad_11ed_982a_0242ac110002row0_col3{\n",
       "            background-color:  #e9f6a1;\n",
       "            color:  #000000;\n",
       "        }#T_8009cf6e_50ad_11ed_982a_0242ac110002row0_col4{\n",
       "            background-color:  #fee593;\n",
       "            color:  #000000;\n",
       "        }#T_8009cf6e_50ad_11ed_982a_0242ac110002row1_col3{\n",
       "            background-color:  #d3ec87;\n",
       "            color:  #000000;\n",
       "        }#T_8009cf6e_50ad_11ed_982a_0242ac110002row1_col4{\n",
       "            background-color:  #42ac5a;\n",
       "            color:  #000000;\n",
       "        }#T_8009cf6e_50ad_11ed_982a_0242ac110002row2_col3{\n",
       "            background-color:  #ebf7a3;\n",
       "            color:  #000000;\n",
       "        }#T_8009cf6e_50ad_11ed_982a_0242ac110002row2_col4{\n",
       "            background-color:  #e6f59d;\n",
       "            color:  #000000;\n",
       "        }#T_8009cf6e_50ad_11ed_982a_0242ac110002row3_col3{\n",
       "            background-color:  #9dd569;\n",
       "            color:  #000000;\n",
       "        }#T_8009cf6e_50ad_11ed_982a_0242ac110002row3_col4,#T_8009cf6e_50ad_11ed_982a_0242ac110002row7_col3{\n",
       "            background-color:  #daf08d;\n",
       "            color:  #000000;\n",
       "        }#T_8009cf6e_50ad_11ed_982a_0242ac110002row4_col3{\n",
       "            background-color:  #48ae5c;\n",
       "            color:  #000000;\n",
       "        }#T_8009cf6e_50ad_11ed_982a_0242ac110002row4_col4{\n",
       "            background-color:  #e2f397;\n",
       "            color:  #000000;\n",
       "        }#T_8009cf6e_50ad_11ed_982a_0242ac110002row5_col3{\n",
       "            background-color:  #b7e075;\n",
       "            color:  #000000;\n",
       "        }#T_8009cf6e_50ad_11ed_982a_0242ac110002row5_col4{\n",
       "            background-color:  #8ecf67;\n",
       "            color:  #000000;\n",
       "        }#T_8009cf6e_50ad_11ed_982a_0242ac110002row6_col3{\n",
       "            background-color:  #73c264;\n",
       "            color:  #000000;\n",
       "        }#T_8009cf6e_50ad_11ed_982a_0242ac110002row6_col4{\n",
       "            background-color:  #fed07e;\n",
       "            color:  #000000;\n",
       "        }#T_8009cf6e_50ad_11ed_982a_0242ac110002row7_col4{\n",
       "            background-color:  #bde379;\n",
       "            color:  #000000;\n",
       "        }</style><table id=\"T_8009cf6e_50ad_11ed_982a_0242ac110002\" ><thead>    <tr>        <th class=\"blank level0\" ></th>        <th class=\"col_heading level0 col0\" >names</th>        <th class=\"col_heading level0 col1\" >counts</th>        <th class=\"col_heading level0 col2\" >shares</th>        <th class=\"col_heading level0 col3\" >precision</th>        <th class=\"col_heading level0 col4\" >recall</th>    </tr></thead><tbody>\n",
       "                <tr>\n",
       "                        <th id=\"T_8009cf6e_50ad_11ed_982a_0242ac110002level0_row0\" class=\"row_heading level0 row0\" >0</th>\n",
       "                        <td id=\"T_8009cf6e_50ad_11ed_982a_0242ac110002row0_col0\" class=\"data row0 col0\" >ArtDeco</td>\n",
       "                        <td id=\"T_8009cf6e_50ad_11ed_982a_0242ac110002row0_col1\" class=\"data row0 col1\" >53</td>\n",
       "                        <td id=\"T_8009cf6e_50ad_11ed_982a_0242ac110002row0_col2\" class=\"data row0 col2\" >0.046573</td>\n",
       "                        <td id=\"T_8009cf6e_50ad_11ed_982a_0242ac110002row0_col3\" class=\"data row0 col3\" >55%</td>\n",
       "                        <td id=\"T_8009cf6e_50ad_11ed_982a_0242ac110002row0_col4\" class=\"data row0 col4\" >41%</td>\n",
       "            </tr>\n",
       "            <tr>\n",
       "                        <th id=\"T_8009cf6e_50ad_11ed_982a_0242ac110002level0_row1\" class=\"row_heading level0 row1\" >1</th>\n",
       "                        <td id=\"T_8009cf6e_50ad_11ed_982a_0242ac110002row1_col0\" class=\"data row1 col0\" >Cubism</td>\n",
       "                        <td id=\"T_8009cf6e_50ad_11ed_982a_0242ac110002row1_col1\" class=\"data row1 col1\" >293</td>\n",
       "                        <td id=\"T_8009cf6e_50ad_11ed_982a_0242ac110002row1_col2\" class=\"data row1 col2\" >0.257469</td>\n",
       "                        <td id=\"T_8009cf6e_50ad_11ed_982a_0242ac110002row1_col3\" class=\"data row1 col3\" >61%</td>\n",
       "                        <td id=\"T_8009cf6e_50ad_11ed_982a_0242ac110002row1_col4\" class=\"data row1 col4\" >84%</td>\n",
       "            </tr>\n",
       "            <tr>\n",
       "                        <th id=\"T_8009cf6e_50ad_11ed_982a_0242ac110002level0_row2\" class=\"row_heading level0 row2\" >2</th>\n",
       "                        <td id=\"T_8009cf6e_50ad_11ed_982a_0242ac110002row2_col0\" class=\"data row2 col0\" >Impressionism</td>\n",
       "                        <td id=\"T_8009cf6e_50ad_11ed_982a_0242ac110002row2_col1\" class=\"data row2 col1\" >194</td>\n",
       "                        <td id=\"T_8009cf6e_50ad_11ed_982a_0242ac110002row2_col2\" class=\"data row2 col2\" >0.170475</td>\n",
       "                        <td id=\"T_8009cf6e_50ad_11ed_982a_0242ac110002row2_col3\" class=\"data row2 col3\" >55%</td>\n",
       "                        <td id=\"T_8009cf6e_50ad_11ed_982a_0242ac110002row2_col4\" class=\"data row2 col4\" >56%</td>\n",
       "            </tr>\n",
       "            <tr>\n",
       "                        <th id=\"T_8009cf6e_50ad_11ed_982a_0242ac110002level0_row3\" class=\"row_heading level0 row3\" >3</th>\n",
       "                        <td id=\"T_8009cf6e_50ad_11ed_982a_0242ac110002row3_col0\" class=\"data row3 col0\" >Japonism</td>\n",
       "                        <td id=\"T_8009cf6e_50ad_11ed_982a_0242ac110002row3_col1\" class=\"data row3 col1\" >161</td>\n",
       "                        <td id=\"T_8009cf6e_50ad_11ed_982a_0242ac110002row3_col2\" class=\"data row3 col2\" >0.141476</td>\n",
       "                        <td id=\"T_8009cf6e_50ad_11ed_982a_0242ac110002row3_col3\" class=\"data row3 col3\" >71%</td>\n",
       "                        <td id=\"T_8009cf6e_50ad_11ed_982a_0242ac110002row3_col4\" class=\"data row3 col4\" >59%</td>\n",
       "            </tr>\n",
       "            <tr>\n",
       "                        <th id=\"T_8009cf6e_50ad_11ed_982a_0242ac110002level0_row4\" class=\"row_heading level0 row4\" >4</th>\n",
       "                        <td id=\"T_8009cf6e_50ad_11ed_982a_0242ac110002row4_col0\" class=\"data row4 col0\" >Naturalism</td>\n",
       "                        <td id=\"T_8009cf6e_50ad_11ed_982a_0242ac110002row4_col1\" class=\"data row4 col1\" >173</td>\n",
       "                        <td id=\"T_8009cf6e_50ad_11ed_982a_0242ac110002row4_col2\" class=\"data row4 col2\" >0.152021</td>\n",
       "                        <td id=\"T_8009cf6e_50ad_11ed_982a_0242ac110002row4_col3\" class=\"data row4 col3\" >83%</td>\n",
       "                        <td id=\"T_8009cf6e_50ad_11ed_982a_0242ac110002row4_col4\" class=\"data row4 col4\" >57%</td>\n",
       "            </tr>\n",
       "            <tr>\n",
       "                        <th id=\"T_8009cf6e_50ad_11ed_982a_0242ac110002level0_row5\" class=\"row_heading level0 row5\" >5</th>\n",
       "                        <td id=\"T_8009cf6e_50ad_11ed_982a_0242ac110002row5_col0\" class=\"data row5 col0\" >Rococo</td>\n",
       "                        <td id=\"T_8009cf6e_50ad_11ed_982a_0242ac110002row5_col1\" class=\"data row5 col1\" >98</td>\n",
       "                        <td id=\"T_8009cf6e_50ad_11ed_982a_0242ac110002row5_col2\" class=\"data row5 col2\" >0.086116</td>\n",
       "                        <td id=\"T_8009cf6e_50ad_11ed_982a_0242ac110002row5_col3\" class=\"data row5 col3\" >66%</td>\n",
       "                        <td id=\"T_8009cf6e_50ad_11ed_982a_0242ac110002row5_col4\" class=\"data row5 col4\" >73%</td>\n",
       "            </tr>\n",
       "            <tr>\n",
       "                        <th id=\"T_8009cf6e_50ad_11ed_982a_0242ac110002level0_row6\" class=\"row_heading level0 row6\" >6</th>\n",
       "                        <td id=\"T_8009cf6e_50ad_11ed_982a_0242ac110002row6_col0\" class=\"data row6 col0\" >cartoon</td>\n",
       "                        <td id=\"T_8009cf6e_50ad_11ed_982a_0242ac110002row6_col1\" class=\"data row6 col1\" >56</td>\n",
       "                        <td id=\"T_8009cf6e_50ad_11ed_982a_0242ac110002row6_col2\" class=\"data row6 col2\" >0.049209</td>\n",
       "                        <td id=\"T_8009cf6e_50ad_11ed_982a_0242ac110002row6_col3\" class=\"data row6 col3\" >77%</td>\n",
       "                        <td id=\"T_8009cf6e_50ad_11ed_982a_0242ac110002row6_col4\" class=\"data row6 col4\" >36%</td>\n",
       "            </tr>\n",
       "            <tr>\n",
       "                        <th id=\"T_8009cf6e_50ad_11ed_982a_0242ac110002level0_row7\" class=\"row_heading level0 row7\" >7</th>\n",
       "                        <td id=\"T_8009cf6e_50ad_11ed_982a_0242ac110002row7_col0\" class=\"data row7 col0\" >photo</td>\n",
       "                        <td id=\"T_8009cf6e_50ad_11ed_982a_0242ac110002row7_col1\" class=\"data row7 col1\" >110</td>\n",
       "                        <td id=\"T_8009cf6e_50ad_11ed_982a_0242ac110002row7_col2\" class=\"data row7 col2\" >0.096661</td>\n",
       "                        <td id=\"T_8009cf6e_50ad_11ed_982a_0242ac110002row7_col3\" class=\"data row7 col3\" >59%</td>\n",
       "                        <td id=\"T_8009cf6e_50ad_11ed_982a_0242ac110002row7_col4\" class=\"data row7 col4\" >65%</td>\n",
       "            </tr>\n",
       "    </tbody></table>"
      ],
      "text/plain": [
       "<pandas.io.formats.style.Styler at 0x7f096da7a730>"
      ]
     },
     "execution_count": 13,
     "metadata": {},
     "output_type": "execute_result"
    }
   ],
   "source": [
    "labels, counts = np.unique(dataset.labels[dataset.train.indices], return_counts=True)\n",
    "shares = counts / counts.sum()\n",
    "\n",
    "metrics_names = ['precision', 'recall']\n",
    "metrics_dict = metrics.evaluate(metrics_names, multiclass=None)\n",
    "metrics_df = pd.DataFrame({'names': dataset.label_encoder.classes_, 'counts': counts, 'shares': shares, **metrics_dict})\n",
    "\n",
    "formatter = lambda value: f\"{int(value * 100)}%\"\n",
    "metrics_df.style.background_gradient('RdYlGn', vmin=0, vmax=1, subset=metrics_names).format(formatter, subset=metrics_names)"
   ]
  },
  {
   "cell_type": "code",
   "execution_count": 14,
   "id": "1fe3d085-4dc9-4196-96de-b118a5322108",
   "metadata": {
    "execution": {
     "iopub.execute_input": "2022-10-20T19:29:22.612942Z",
     "iopub.status.busy": "2022-10-20T19:29:22.612739Z",
     "iopub.status.idle": "2022-10-20T19:29:22.655712Z",
     "shell.execute_reply": "2022-10-20T19:29:22.655174Z",
     "shell.execute_reply.started": "2022-10-20T19:29:22.612920Z"
    },
    "tags": []
   },
   "outputs": [
    {
     "data": {
      "text/html": [
       "<style  type=\"text/css\" >\n",
       "#T_80112944_50ad_11ed_982a_0242ac110002row0_col0{\n",
       "            background-color:  #c3e67d;\n",
       "            color:  #000000;\n",
       "        }#T_80112944_50ad_11ed_982a_0242ac110002row0_col1{\n",
       "            background-color:  #cbe982;\n",
       "            color:  #000000;\n",
       "        }</style><table id=\"T_80112944_50ad_11ed_982a_0242ac110002\" ><thead>    <tr>        <th class=\"blank level0\" ></th>        <th class=\"col_heading level0 col0\" >accuracy</th>        <th class=\"col_heading level0 col1\" >f1_score</th>    </tr></thead><tbody>\n",
       "                <tr>\n",
       "                        <th id=\"T_80112944_50ad_11ed_982a_0242ac110002level0_row0\" class=\"row_heading level0 row0\" >0</th>\n",
       "                        <td id=\"T_80112944_50ad_11ed_982a_0242ac110002row0_col0\" class=\"data row0 col0\" >64%</td>\n",
       "                        <td id=\"T_80112944_50ad_11ed_982a_0242ac110002row0_col1\" class=\"data row0 col1\" >62%</td>\n",
       "            </tr>\n",
       "    </tbody></table>"
      ],
      "text/plain": [
       "<pandas.io.formats.style.Styler at 0x7f096da7fc40>"
      ]
     },
     "execution_count": 14,
     "metadata": {},
     "output_type": "execute_result"
    }
   ],
   "source": [
    "metrics_names = ['accuracy', 'f1_score']\n",
    "metrics_values = [metrics.evaluate(metric_name) for metric_name in metrics_names]\n",
    "\n",
    "metrics_df = pd.DataFrame(data=metrics_values, index=metrics_names)\n",
    "metrics_df.T.style.background_gradient('RdYlGn', vmin=0, vmax=1).format(formatter)"
   ]
  },
  {
   "cell_type": "code",
   "execution_count": 15,
   "id": "ee66e7fe-582f-4486-a208-55a18d6dc21c",
   "metadata": {
    "execution": {
     "iopub.execute_input": "2022-10-20T19:29:22.656578Z",
     "iopub.status.busy": "2022-10-20T19:29:22.656386Z",
     "iopub.status.idle": "2022-10-20T19:29:22.683551Z",
     "shell.execute_reply": "2022-10-20T19:29:22.683028Z",
     "shell.execute_reply.started": "2022-10-20T19:29:22.656562Z"
    },
    "tags": []
   },
   "outputs": [],
   "source": [
    "METRICS_PATH = f'../metrics/{NAME}.npy'\n",
    "all_metrics = {**metrics_dict, **{key: value for key, value in zip(metrics_names, metrics_values)}}\n",
    "# np.save(METRICS_PATH, all_metrics)"
   ]
  },
  {
   "cell_type": "code",
   "execution_count": 16,
   "id": "e055c10e-ee5a-47b4-8804-2ece2bf9de8e",
   "metadata": {
    "execution": {
     "iopub.execute_input": "2022-10-20T19:29:22.684405Z",
     "iopub.status.busy": "2022-10-20T19:29:22.684240Z",
     "iopub.status.idle": "2022-10-20T19:29:22.708167Z",
     "shell.execute_reply": "2022-10-20T19:29:22.707597Z",
     "shell.execute_reply.started": "2022-10-20T19:29:22.684390Z"
    },
    "tags": []
   },
   "outputs": [],
   "source": [
    "# labels = dataset.label_encoder.inverse_transform(batch.labels)\n",
    "# for cluster_num in range(n_classes):\n",
    "#     cluster_images = batch.images[clustered == cluster_num]\n",
    "#     cluster_images = list(cluster_images.transpose(0, 2, 3, 1))\n",
    "#     cluster_true_labels = labels[clustered == cluster_num].tolist()\n",
    "#     plot(cluster_images, title=cluster_true_labels, suptitle=f\"cluster: {cluster_num}\", suptitle_y=1, suptitle_size=30, combine='separate')"
   ]
  }
 ],
 "metadata": {
  "kernelspec": {
   "display_name": "Python 3 (ipykernel)",
   "language": "python",
   "name": "python3"
  },
  "language_info": {
   "codemirror_mode": {
    "name": "ipython",
    "version": 3
   },
   "file_extension": ".py",
   "mimetype": "text/x-python",
   "name": "python",
   "nbconvert_exporter": "python",
   "pygments_lexer": "ipython3",
   "version": "3.8.10"
  },
  "widgets": {
   "application/vnd.jupyter.widget-state+json": {
    "state": {},
    "version_major": 2,
    "version_minor": 0
   }
  }
 },
 "nbformat": 4,
 "nbformat_minor": 5
}
