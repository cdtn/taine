{
 "cells": [
  {
   "cell_type": "markdown",
   "id": "102c6216-fa67-4d2c-8aac-ffb10c56d36d",
   "metadata": {},
   "source": [
    "# Metric learning embeddings clustering via KNN"
   ]
  },
  {
   "cell_type": "code",
   "execution_count": 1,
   "id": "b9087870",
   "metadata": {
    "execution": {
     "iopub.execute_input": "2022-10-24T14:13:01.374332Z",
     "iopub.status.busy": "2022-10-24T14:13:01.374063Z",
     "iopub.status.idle": "2022-10-24T14:13:01.398249Z",
     "shell.execute_reply": "2022-10-24T14:13:01.397260Z",
     "shell.execute_reply.started": "2022-10-24T14:13:01.374254Z"
    },
    "tags": []
   },
   "outputs": [
    {
     "name": "stdout",
     "output_type": "stream",
     "text": [
      "env: CUDA_VISIBLE_DEVICES=7\n"
     ]
    }
   ],
   "source": [
    "%load_ext autoreload\n",
    "%autoreload 2\n",
    "\n",
    "%env CUDA_VISIBLE_DEVICES 7"
   ]
  },
  {
   "cell_type": "markdown",
   "id": "0036573f-bf6a-4e68-9fba-65c9b2b3d978",
   "metadata": {},
   "source": [
    "Import necessary tools."
   ]
  },
  {
   "cell_type": "code",
   "execution_count": 2,
   "id": "38a9966f-a85c-486d-916d-fcc4604d2994",
   "metadata": {
    "execution": {
     "iopub.execute_input": "2022-10-24T14:13:01.399280Z",
     "iopub.status.busy": "2022-10-24T14:13:01.399114Z",
     "iopub.status.idle": "2022-10-24T14:13:04.198898Z",
     "shell.execute_reply": "2022-10-24T14:13:04.198233Z",
     "shell.execute_reply.started": "2022-10-24T14:13:01.399260Z"
    },
    "tags": []
   },
   "outputs": [],
   "source": [
    "import sys\n",
    "\n",
    "sys.path.insert(0, '../batchflow')\n",
    "sys.path.insert(0, '../src')\n",
    "sys.path.insert(0, '../open-metric-learning')\n",
    "\n",
    "import numpy as np\n",
    "import pandas as pd\n",
    "from torchvision import transforms\n",
    "from sklearn.neighbors import NearestNeighbors\n",
    "from sklearn.model_selection import train_test_split\n",
    "from sklearn.decomposition import PCA\n",
    "\n",
    "import torch\n",
    "from torch.utils.data import Dataset, DataLoader\n",
    "from oml.datasets.base import DatasetWithLabels\n",
    "from oml.utils.images.images import imread_pillow\n",
    "\n",
    "from torchvision.models import efficientnet_b2\n",
    "from nbtools.core import get_notebook_name\n",
    "\n",
    "from batchflow import plot, Notifier\n",
    "\n",
    "from loader import ImagesDataset\n",
    "from evaluator import MetricsEvaluator"
   ]
  },
  {
   "cell_type": "markdown",
   "id": "54db34a8-6b6d-45b1-95de-9b49c50eb7a1",
   "metadata": {},
   "source": [
    "Get notebook name and use it as an experiment name."
   ]
  },
  {
   "cell_type": "code",
   "execution_count": 3,
   "id": "77b52397-7c2d-487f-8947-2a9fc5f78c01",
   "metadata": {
    "execution": {
     "iopub.execute_input": "2022-10-24T14:13:04.200969Z",
     "iopub.status.busy": "2022-10-24T14:13:04.200689Z",
     "iopub.status.idle": "2022-10-24T14:13:04.342372Z",
     "shell.execute_reply": "2022-10-24T14:13:04.341532Z",
     "shell.execute_reply.started": "2022-10-24T14:13:04.200945Z"
    },
    "tags": []
   },
   "outputs": [
    {
     "data": {
      "text/plain": [
       "'07_EFFICIENTNET+KNN'"
      ]
     },
     "execution_count": 3,
     "metadata": {},
     "output_type": "execute_result"
    }
   ],
   "source": [
    "NAME = get_notebook_name()\n",
    "NAME"
   ]
  },
  {
   "cell_type": "markdown",
   "id": "7a3910c2-c2aa-4c34-8d98-fdcc285aef4e",
   "metadata": {},
   "source": [
    "Define seed for reproducibility."
   ]
  },
  {
   "cell_type": "code",
   "execution_count": 4,
   "id": "1de9b3b6-130e-4c1e-b318-e02921e15c5c",
   "metadata": {
    "execution": {
     "iopub.execute_input": "2022-10-24T14:13:04.343516Z",
     "iopub.status.busy": "2022-10-24T14:13:04.343351Z",
     "iopub.status.idle": "2022-10-24T14:13:04.378768Z",
     "shell.execute_reply": "2022-10-24T14:13:04.377745Z",
     "shell.execute_reply.started": "2022-10-24T14:13:04.343496Z"
    },
    "tags": []
   },
   "outputs": [],
   "source": [
    "SEED = 11\n",
    "rng = np.random.default_rng(SEED)\n",
    "generator = torch.Generator()\n",
    "generator = generator.manual_seed(SEED)"
   ]
  },
  {
   "cell_type": "markdown",
   "id": "476fb0d1-62a9-41b2-a704-e4fc4f422483",
   "metadata": {},
   "source": [
    "Load data but in slightly different manner, since we're working with torch directly, without fancy batchflow abstractions."
   ]
  },
  {
   "cell_type": "code",
   "execution_count": 5,
   "id": "e34eec8b-6dbe-4735-be7f-9b8df847dea1",
   "metadata": {
    "execution": {
     "iopub.execute_input": "2022-10-24T14:13:04.380781Z",
     "iopub.status.busy": "2022-10-24T14:13:04.380359Z",
     "iopub.status.idle": "2022-10-24T14:13:04.442180Z",
     "shell.execute_reply": "2022-10-24T14:13:04.441648Z",
     "shell.execute_reply.started": "2022-10-24T14:13:04.380734Z"
    },
    "tags": []
   },
   "outputs": [
    {
     "name": "stdout",
     "output_type": "stream",
     "text": [
      "100%|\u001b[38;2;76;175;80m████████████████████████████████████████████\u001b[0m| 9/9 [00:00<00:00, 405.18it/s]\u001b[0m\n"
     ]
    }
   ],
   "source": [
    "DATA_PATH = '../images'\n",
    "SHAPE = (128, 128)\n",
    "\n",
    "names, inputs, labels = ImagesDataset.load(DATA_PATH)\n",
    "labels, label_encoder = ImagesDataset.encode(labels)\n",
    "classes = label_encoder.classes_.tolist()\n",
    "n_classes = len(classes)"
   ]
  },
  {
   "cell_type": "markdown",
   "id": "0d4bc7a8-36d8-4604-a504-886fdc28d00a",
   "metadata": {},
   "source": [
    "Define simple preprocessing, consisting of tensor conversion, image resize and normalization. Actually, all the same as previously, just with different tool."
   ]
  },
  {
   "cell_type": "code",
   "execution_count": 6,
   "id": "fb20011a-bb7a-44c8-b44b-3c4906c0cde9",
   "metadata": {
    "execution": {
     "iopub.execute_input": "2022-10-24T14:13:04.443287Z",
     "iopub.status.busy": "2022-10-24T14:13:04.443030Z",
     "iopub.status.idle": "2022-10-24T14:13:04.472050Z",
     "shell.execute_reply": "2022-10-24T14:13:04.471600Z",
     "shell.execute_reply.started": "2022-10-24T14:13:04.443261Z"
    },
    "tags": []
   },
   "outputs": [],
   "source": [
    "transform = transforms.Compose([\n",
    "    transforms.ToTensor(),\n",
    "    transforms.Resize(size=SHAPE),\n",
    "    transforms.Normalize(mean=(0.527, 0.484, 0.423), std=(0.267, 0.258, 0.260))\n",
    "])"
   ]
  },
  {
   "cell_type": "markdown",
   "id": "f14d1144-1a3d-413b-8ee7-9b687cfc29ae",
   "metadata": {},
   "source": [
    "Load data."
   ]
  },
  {
   "cell_type": "code",
   "execution_count": 7,
   "id": "7a0fc799-7639-4271-8360-cd170f52e8c7",
   "metadata": {
    "execution": {
     "iopub.execute_input": "2022-10-24T14:13:04.472955Z",
     "iopub.status.busy": "2022-10-24T14:13:04.472715Z",
     "iopub.status.idle": "2022-10-24T14:13:04.510534Z",
     "shell.execute_reply": "2022-10-24T14:13:04.510087Z",
     "shell.execute_reply.started": "2022-10-24T14:13:04.472935Z"
    },
    "tags": []
   },
   "outputs": [],
   "source": [
    "dataframe = pd.DataFrame({'path': inputs, 'label': labels})\n",
    "dataset = DatasetWithLabels(dataframe, dataset_root='.', transform=transform, f_imread=imread_pillow)\n",
    "\n",
    "BATCH_SIZE = 128\n",
    "loader = torch.utils.data.DataLoader(dataset, batch_size=BATCH_SIZE, generator=generator)"
   ]
  },
  {
   "cell_type": "markdown",
   "id": "c4ba9ce0-38d7-4858-9a01-5b6f4de99656",
   "metadata": {},
   "source": [
    "Load trained model."
   ]
  },
  {
   "cell_type": "code",
   "execution_count": 8,
   "id": "7f78a1f8-c9bc-435f-ba62-d4b81077ccbc",
   "metadata": {
    "execution": {
     "iopub.execute_input": "2022-10-24T14:13:04.511456Z",
     "iopub.status.busy": "2022-10-24T14:13:04.511214Z",
     "iopub.status.idle": "2022-10-24T14:13:07.154220Z",
     "shell.execute_reply": "2022-10-24T14:13:07.153582Z",
     "shell.execute_reply.started": "2022-10-24T14:13:04.511436Z"
    },
    "tags": []
   },
   "outputs": [
    {
     "name": "stdout",
     "output_type": "stream",
     "text": [
      "CPU times: user 1.66 s, sys: 929 ms, total: 2.59 s\n",
      "Wall time: 2.61 s\n"
     ]
    }
   ],
   "source": [
    "%%time\n",
    "\n",
    "DEVICE = 'cuda:0'\n",
    "MODEL_PATH = '../models/05_EFFICIENTNET.state'\n",
    "\n",
    "model = efficientnet_b2()\n",
    "state_dict = torch.load(MODEL_PATH, map_location=DEVICE)\n",
    "model.load_state_dict(state_dict)\n",
    "model = model.to(DEVICE)"
   ]
  },
  {
   "cell_type": "markdown",
   "id": "ab1b80d3-6925-4978-bfa7-c615f669390c",
   "metadata": {},
   "source": [
    "Obtain data embeddings."
   ]
  },
  {
   "cell_type": "code",
   "execution_count": 9,
   "id": "d6f1976c-5b8f-4588-8821-56de21a9b5f8",
   "metadata": {
    "execution": {
     "iopub.execute_input": "2022-10-24T14:13:07.155648Z",
     "iopub.status.busy": "2022-10-24T14:13:07.155221Z",
     "iopub.status.idle": "2022-10-24T14:13:16.320156Z",
     "shell.execute_reply": "2022-10-24T14:13:16.319023Z",
     "shell.execute_reply.started": "2022-10-24T14:13:07.155622Z"
    },
    "tags": []
   },
   "outputs": [
    {
     "data": {
      "image/png": "[encoded data removed]",
      "text/plain": [
       "<Figure size 878x439 with 26 Axes>"
      ]
     },
     "metadata": {},
     "output_type": "display_data"
    }
   ],
   "source": [
    "model.eval()\n",
    "\n",
    "embeddings = []\n",
    "targets = []\n",
    "\n",
    "notifier = Notifier('t', graphs=['gpu', 'gpu_memory'])\n",
    "\n",
    "for batch in notifier(loader):\n",
    "    inputs = batch['input_tensors'].to(DEVICE)\n",
    "    batch_embeddings = model(inputs).detach().cpu().numpy()\n",
    "    embeddings.append(batch_embeddings)\n",
    "    targets.append(batch['labels'])\n",
    "    \n",
    "embeddings = np.vstack(embeddings)\n",
    "targets = np.hstack(targets)"
   ]
  },
  {
   "cell_type": "markdown",
   "id": "955b7868-4436-430d-add2-ef90b3ff1b6c",
   "metadata": {},
   "source": [
    "Now lets fit a K-Nearest Neighbors alogrithm on train subset of embeddings."
   ]
  },
  {
   "cell_type": "code",
   "execution_count": 10,
   "id": "c3f0581c-968f-439a-911a-a3f0e345e6d1",
   "metadata": {
    "execution": {
     "iopub.execute_input": "2022-10-24T14:13:16.322178Z",
     "iopub.status.busy": "2022-10-24T14:13:16.321810Z",
     "iopub.status.idle": "2022-10-24T14:13:16.356112Z",
     "shell.execute_reply": "2022-10-24T14:13:16.355332Z",
     "shell.execute_reply.started": "2022-10-24T14:13:16.322128Z"
    }
   },
   "outputs": [],
   "source": [
    "from sklearn.decomposition import PCA"
   ]
  },
  {
   "cell_type": "code",
   "execution_count": 11,
   "id": "9e7c6629-1b8e-4761-8fc0-7221219e1386",
   "metadata": {
    "execution": {
     "iopub.execute_input": "2022-10-24T14:13:16.357030Z",
     "iopub.status.busy": "2022-10-24T14:13:16.356811Z",
     "iopub.status.idle": "2022-10-24T14:13:16.910115Z",
     "shell.execute_reply": "2022-10-24T14:13:16.909297Z",
     "shell.execute_reply.started": "2022-10-24T14:13:16.357013Z"
    },
    "tags": []
   },
   "outputs": [],
   "source": [
    "N_COMPONENTS = 40\n",
    "pca = PCA(n_components=N_COMPONENTS)\n",
    "features = pca.fit_transform(embeddings)"
   ]
  },
  {
   "cell_type": "code",
   "execution_count": 12,
   "id": "26a47cc4-c83c-4086-af9f-1c4f5f94b016",
   "metadata": {
    "execution": {
     "iopub.execute_input": "2022-10-24T14:13:16.919936Z",
     "iopub.status.busy": "2022-10-24T14:13:16.916800Z",
     "iopub.status.idle": "2022-10-24T14:13:16.981376Z",
     "shell.execute_reply": "2022-10-24T14:13:16.980784Z",
     "shell.execute_reply.started": "2022-10-24T14:13:16.919898Z"
    },
    "tags": []
   },
   "outputs": [],
   "source": [
    "train_features, test_features, train_targets, test_targets = train_test_split(features, targets, test_size=0.2, random_state=SEED)\n",
    "\n",
    "N_NEIGHBORS = 40\n",
    "nn = NearestNeighbors(n_neighbors=N_NEIGHBORS)\n",
    "nn = nn.fit(train_features)"
   ]
  },
  {
   "cell_type": "markdown",
   "id": "2c4d9fa9-0cb4-46de-a60d-1a94b356a213",
   "metadata": {},
   "source": [
    "That little buddy will help us to calculate number of most frequent neighbours row-wise."
   ]
  },
  {
   "cell_type": "code",
   "execution_count": 13,
   "id": "730a5d0f-dfbe-40c4-b39a-a8654dd1547c",
   "metadata": {
    "execution": {
     "iopub.execute_input": "2022-10-24T14:13:16.983112Z",
     "iopub.status.busy": "2022-10-24T14:13:16.982745Z",
     "iopub.status.idle": "2022-10-24T14:13:17.012547Z",
     "shell.execute_reply": "2022-10-24T14:13:17.012154Z",
     "shell.execute_reply.started": "2022-10-24T14:13:16.983085Z"
    },
    "tags": []
   },
   "outputs": [],
   "source": [
    "def bincount_2d(arr, n):\n",
    "    offsets = arr + np.arange(arr.shape[0])[:, None] * n\n",
    "    counts = np.bincount(offsets.ravel(), minlength=arr.shape[0] * n)\n",
    "    counts = counts.reshape(-1, n)\n",
    "    return counts"
   ]
  },
  {
   "cell_type": "markdown",
   "id": "e98ca119-236b-45af-99f7-ee9999c594c9",
   "metadata": {},
   "source": [
    "Determine neighbours for test subset samples, find most frequent ones, use their class as predition."
   ]
  },
  {
   "cell_type": "code",
   "execution_count": 14,
   "id": "82cc04ce-e4df-4253-933e-14db75d2a436",
   "metadata": {
    "execution": {
     "iopub.execute_input": "2022-10-24T14:13:17.013422Z",
     "iopub.status.busy": "2022-10-24T14:13:17.013255Z",
     "iopub.status.idle": "2022-10-24T14:13:17.056463Z",
     "shell.execute_reply": "2022-10-24T14:13:17.055826Z",
     "shell.execute_reply.started": "2022-10-24T14:13:17.013404Z"
    },
    "tags": []
   },
   "outputs": [],
   "source": [
    "_, test_neighbors_indices = nn.kneighbors(test_features)\n",
    "test_neighbors = train_targets[test_neighbors_indices]\n",
    "test_predictions = bincount_2d(test_neighbors, n_classes).argmax(axis=1)"
   ]
  },
  {
   "cell_type": "markdown",
   "id": "c4a92442-ce15-4d8e-bc84-01b09e70cc5f",
   "metadata": {},
   "source": [
    "Evaluate metrics on our prediction. God, they're good!"
   ]
  },
  {
   "cell_type": "code",
   "execution_count": 15,
   "id": "fc6c76d6-835e-4d99-a766-d13a35879798",
   "metadata": {
    "execution": {
     "iopub.execute_input": "2022-10-24T14:13:17.057678Z",
     "iopub.status.busy": "2022-10-24T14:13:17.057442Z",
     "iopub.status.idle": "2022-10-24T14:13:18.494031Z",
     "shell.execute_reply": "2022-10-24T14:13:18.493180Z",
     "shell.execute_reply.started": "2022-10-24T14:13:17.057650Z"
    },
    "tags": []
   },
   "outputs": [
    {
     "data": {
      "text/html": [
       "<style  type=\"text/css\" >\n",
       "#T_01ff8ab8_53a6_11ed_a275_0242ac110002row0_col0{\n",
       "            background-color:  #fee999;\n",
       "            color:  #000000;\n",
       "        }#T_01ff8ab8_53a6_11ed_a275_0242ac110002row0_col1{\n",
       "            background-color:  #fdad60;\n",
       "            color:  #000000;\n",
       "        }#T_01ff8ab8_53a6_11ed_a275_0242ac110002row1_col0{\n",
       "            background-color:  #98d368;\n",
       "            color:  #000000;\n",
       "        }#T_01ff8ab8_53a6_11ed_a275_0242ac110002row1_col1{\n",
       "            background-color:  #45ad5b;\n",
       "            color:  #000000;\n",
       "        }#T_01ff8ab8_53a6_11ed_a275_0242ac110002row2_col0,#T_01ff8ab8_53a6_11ed_a275_0242ac110002row4_col1{\n",
       "            background-color:  #c3e67d;\n",
       "            color:  #000000;\n",
       "        }#T_01ff8ab8_53a6_11ed_a275_0242ac110002row2_col1{\n",
       "            background-color:  #bbe278;\n",
       "            color:  #000000;\n",
       "        }#T_01ff8ab8_53a6_11ed_a275_0242ac110002row3_col0{\n",
       "            background-color:  #b1de71;\n",
       "            color:  #000000;\n",
       "        }#T_01ff8ab8_53a6_11ed_a275_0242ac110002row3_col1{\n",
       "            background-color:  #d9ef8b;\n",
       "            color:  #000000;\n",
       "        }#T_01ff8ab8_53a6_11ed_a275_0242ac110002row4_col0{\n",
       "            background-color:  #8ccd67;\n",
       "            color:  #000000;\n",
       "        }#T_01ff8ab8_53a6_11ed_a275_0242ac110002row5_col0{\n",
       "            background-color:  #eff8aa;\n",
       "            color:  #000000;\n",
       "        }#T_01ff8ab8_53a6_11ed_a275_0242ac110002row5_col1{\n",
       "            background-color:  #abdb6d;\n",
       "            color:  #000000;\n",
       "        }#T_01ff8ab8_53a6_11ed_a275_0242ac110002row6_col0{\n",
       "            background-color:  #d1ec86;\n",
       "            color:  #000000;\n",
       "        }#T_01ff8ab8_53a6_11ed_a275_0242ac110002row6_col1{\n",
       "            background-color:  #feffbe;\n",
       "            color:  #000000;\n",
       "        }#T_01ff8ab8_53a6_11ed_a275_0242ac110002row7_col0{\n",
       "            background-color:  #2aa054;\n",
       "            color:  #000000;\n",
       "        }#T_01ff8ab8_53a6_11ed_a275_0242ac110002row7_col1{\n",
       "            background-color:  #84ca66;\n",
       "            color:  #000000;\n",
       "        }</style><table id=\"T_01ff8ab8_53a6_11ed_a275_0242ac110002\" ><thead>    <tr>        <th class=\"blank level0\" ></th>        <th class=\"col_heading level0 col0\" >precision</th>        <th class=\"col_heading level0 col1\" >recall</th>    </tr></thead><tbody>\n",
       "                <tr>\n",
       "                        <th id=\"T_01ff8ab8_53a6_11ed_a275_0242ac110002level0_row0\" class=\"row_heading level0 row0\" >ArtDeco</th>\n",
       "                        <td id=\"T_01ff8ab8_53a6_11ed_a275_0242ac110002row0_col0\" class=\"data row0 col0\" >42.9</td>\n",
       "                        <td id=\"T_01ff8ab8_53a6_11ed_a275_0242ac110002row0_col1\" class=\"data row0 col1\" >30.0</td>\n",
       "            </tr>\n",
       "            <tr>\n",
       "                        <th id=\"T_01ff8ab8_53a6_11ed_a275_0242ac110002level0_row1\" class=\"row_heading level0 row1\" >Cubism</th>\n",
       "                        <td id=\"T_01ff8ab8_53a6_11ed_a275_0242ac110002row1_col0\" class=\"data row1 col0\" >72.0</td>\n",
       "                        <td id=\"T_01ff8ab8_53a6_11ed_a275_0242ac110002row1_col1\" class=\"data row1 col1\" >84.3</td>\n",
       "            </tr>\n",
       "            <tr>\n",
       "                        <th id=\"T_01ff8ab8_53a6_11ed_a275_0242ac110002level0_row2\" class=\"row_heading level0 row2\" >Impressionism</th>\n",
       "                        <td id=\"T_01ff8ab8_53a6_11ed_a275_0242ac110002row2_col0\" class=\"data row2 col0\" >64.4</td>\n",
       "                        <td id=\"T_01ff8ab8_53a6_11ed_a275_0242ac110002row2_col1\" class=\"data row2 col1\" >65.9</td>\n",
       "            </tr>\n",
       "            <tr>\n",
       "                        <th id=\"T_01ff8ab8_53a6_11ed_a275_0242ac110002level0_row3\" class=\"row_heading level0 row3\" >Japonism</th>\n",
       "                        <td id=\"T_01ff8ab8_53a6_11ed_a275_0242ac110002row3_col0\" class=\"data row3 col0\" >67.7</td>\n",
       "                        <td id=\"T_01ff8ab8_53a6_11ed_a275_0242ac110002row3_col1\" class=\"data row3 col1\" >60.0</td>\n",
       "            </tr>\n",
       "            <tr>\n",
       "                        <th id=\"T_01ff8ab8_53a6_11ed_a275_0242ac110002level0_row4\" class=\"row_heading level0 row4\" >Naturalism</th>\n",
       "                        <td id=\"T_01ff8ab8_53a6_11ed_a275_0242ac110002row4_col0\" class=\"data row4 col0\" >73.9</td>\n",
       "                        <td id=\"T_01ff8ab8_53a6_11ed_a275_0242ac110002row4_col1\" class=\"data row4 col1\" >64.2</td>\n",
       "            </tr>\n",
       "            <tr>\n",
       "                        <th id=\"T_01ff8ab8_53a6_11ed_a275_0242ac110002level0_row5\" class=\"row_heading level0 row5\" >Rococo</th>\n",
       "                        <td id=\"T_01ff8ab8_53a6_11ed_a275_0242ac110002row5_col0\" class=\"data row5 col0\" >54.1</td>\n",
       "                        <td id=\"T_01ff8ab8_53a6_11ed_a275_0242ac110002row5_col1\" class=\"data row5 col1\" >69.0</td>\n",
       "            </tr>\n",
       "            <tr>\n",
       "                        <th id=\"T_01ff8ab8_53a6_11ed_a275_0242ac110002level0_row6\" class=\"row_heading level0 row6\" >cartoon</th>\n",
       "                        <td id=\"T_01ff8ab8_53a6_11ed_a275_0242ac110002row6_col0\" class=\"data row6 col0\" >61.5</td>\n",
       "                        <td id=\"T_01ff8ab8_53a6_11ed_a275_0242ac110002row6_col1\" class=\"data row6 col1\" >50.0</td>\n",
       "            </tr>\n",
       "            <tr>\n",
       "                        <th id=\"T_01ff8ab8_53a6_11ed_a275_0242ac110002level0_row7\" class=\"row_heading level0 row7\" >photo</th>\n",
       "                        <td id=\"T_01ff8ab8_53a6_11ed_a275_0242ac110002row7_col0\" class=\"data row7 col0\" >87.5</td>\n",
       "                        <td id=\"T_01ff8ab8_53a6_11ed_a275_0242ac110002row7_col1\" class=\"data row7 col1\" >75.0</td>\n",
       "            </tr>\n",
       "    </tbody></table>"
      ],
      "text/plain": [
       "<pandas.io.formats.style.Styler at 0x7f9760c0a8b0>"
      ]
     },
     "metadata": {},
     "output_type": "display_data"
    },
    {
     "data": {
      "text/html": [
       "<style  type=\"text/css\" >\n",
       "#T_02011dc4_53a6_11ed_a275_0242ac110002row0_col0{\n",
       "            background-color:  #addc6f;\n",
       "            color:  #000000;\n",
       "        }#T_02011dc4_53a6_11ed_a275_0242ac110002row0_col1{\n",
       "            background-color:  #c5e67e;\n",
       "            color:  #000000;\n",
       "        }</style><table id=\"T_02011dc4_53a6_11ed_a275_0242ac110002\" ><thead>    <tr>        <th class=\"blank level0\" ></th>        <th class=\"col_heading level0 col0\" >accuracy</th>        <th class=\"col_heading level0 col1\" >f1_score</th>    </tr></thead><tbody>\n",
       "                <tr>\n",
       "                        <th id=\"T_02011dc4_53a6_11ed_a275_0242ac110002level0_row0\" class=\"row_heading level0 row0\" >altogether</th>\n",
       "                        <td id=\"T_02011dc4_53a6_11ed_a275_0242ac110002row0_col0\" class=\"data row0 col0\" >68.4</td>\n",
       "                        <td id=\"T_02011dc4_53a6_11ed_a275_0242ac110002row0_col1\" class=\"data row0 col1\" >63.9</td>\n",
       "            </tr>\n",
       "    </tbody></table>"
      ],
      "text/plain": [
       "<pandas.io.formats.style.Styler at 0x7f97086a0520>"
      ]
     },
     "metadata": {},
     "output_type": "display_data"
    },
    {
     "data": {
      "image/png": "[encoded data removed]",
      "text/plain": [
       "<Figure size 576x576 with 2 Axes>"
      ]
     },
     "metadata": {},
     "output_type": "display_data"
    }
   ],
   "source": [
    "METRICS_PATH = f'../metrics/{NAME}.json'\n",
    "test_metrics = MetricsEvaluator(test_targets, test_predictions, classes=classes)\n",
    "test_metrics_dict = test_metrics.evaluate_classification_metrics(savepath=METRICS_PATH)"
   ]
  },
  {
   "cell_type": "markdown",
   "id": "dafa52b4-09f4-41ae-bb44-d3f0731e2c77",
   "metadata": {},
   "source": [
    "Save metrics for future evaluation."
   ]
  },
  {
   "cell_type": "code",
   "execution_count": null,
   "id": "043aa5b8-1016-4091-842f-acf958a22cf8",
   "metadata": {},
   "outputs": [],
   "source": []
  }
 ],
 "metadata": {
  "kernelspec": {
   "display_name": "Python 3 (ipykernel)",
   "language": "python",
   "name": "python3"
  },
  "language_info": {
   "codemirror_mode": {
    "name": "ipython",
    "version": 3
   },
   "file_extension": ".py",
   "mimetype": "text/x-python",
   "name": "python",
   "nbconvert_exporter": "python",
   "pygments_lexer": "ipython3",
   "version": "3.8.10"
  },
  "widgets": {
   "application/vnd.jupyter.widget-state+json": {
    "state": {
     "0de44f71e0a04b89854d1a3c9cc6eb0c": {
      "model_module": "@jupyter-widgets/base",
      "model_module_version": "1.2.0",
      "model_name": "LayoutModel",
      "state": {
       "display": "inline-flex",
       "flex_flow": "row wrap",
       "width": "700px"
      }
     },
     "1571255708b94859874ca4696aeb4deb": {
      "model_module": "@jupyter-widgets/controls",
      "model_module_version": "1.5.0",
      "model_name": "HBoxModel",
      "state": {
       "children": [
        "IPY_MODEL_ecb4dadf375245db9d6e3ed16c2b0a98",
        "IPY_MODEL_5616d84f08584362b8901bcbacf16c5f",
        "IPY_MODEL_f3e07eeda3ae461dad75fa3ea6913f23"
       ],
       "layout": "IPY_MODEL_967bd5760a3e4e3ea830425b260c5df7"
      }
     },
     "1ef5b7c9f7384ff9b5900759898569e0": {
      "model_module": "@jupyter-widgets/controls",
      "model_module_version": "1.5.0",
      "model_name": "DescriptionStyleModel",
      "state": {
       "description_width": ""
      }
     },
     "27da86f3e494448aad102f37e8d2397f": {
      "model_module": "@jupyter-widgets/controls",
      "model_module_version": "1.5.0",
      "model_name": "FloatProgressModel",
      "state": {
       "bar_style": "success",
       "layout": "IPY_MODEL_d2834094199e439491f5b00d69276f27",
       "max": 1,
       "style": "IPY_MODEL_297b866881d64768b137a4a16a2ec7b5"
      }
     },
     "297b866881d64768b137a4a16a2ec7b5": {
      "model_module": "@jupyter-widgets/controls",
      "model_module_version": "1.5.0",
      "model_name": "ProgressStyleModel",
      "state": {
       "description_width": ""
      }
     },
     "2fd3f42ce43f46d9aa14da910d942f05": {
      "model_module": "@jupyter-widgets/base",
      "model_module_version": "1.2.0",
      "model_name": "LayoutModel",
      "state": {}
     },
     "3acc82d5e0bc44d7a4b0bd5cee84893c": {
      "model_module": "@jupyter-widgets/controls",
      "model_module_version": "1.5.0",
      "model_name": "ProgressStyleModel",
      "state": {
       "description_width": ""
      }
     },
     "47caf1644c0d432397f5ac6080a984a8": {
      "model_module": "@jupyter-widgets/base",
      "model_module_version": "1.2.0",
      "model_name": "LayoutModel",
      "state": {}
     },
     "5616d84f08584362b8901bcbacf16c5f": {
      "model_module": "@jupyter-widgets/controls",
      "model_module_version": "1.5.0",
      "model_name": "FloatProgressModel",
      "state": {
       "bar_style": "success",
       "layout": "IPY_MODEL_c963640aad7c485cb23eff1a37e514f1",
       "max": 12,
       "style": "IPY_MODEL_3acc82d5e0bc44d7a4b0bd5cee84893c",
       "value": 12
      }
     },
     "5983207dd8fe4707a7e406d847f55bfa": {
      "model_module": "@jupyter-widgets/controls",
      "model_module_version": "1.5.0",
      "model_name": "DescriptionStyleModel",
      "state": {
       "description_width": ""
      }
     },
     "5d38869787874667bc35865a22b0909d": {
      "model_module": "@jupyter-widgets/controls",
      "model_module_version": "1.5.0",
      "model_name": "HTMLModel",
      "state": {
       "layout": "IPY_MODEL_627e856e21e848a2bd33abd56dd3a23a",
       "style": "IPY_MODEL_5983207dd8fe4707a7e406d847f55bfa"
      }
     },
     "5d9c02aadf58473e88af9e4653a78335": {
      "model_module": "@jupyter-widgets/controls",
      "model_module_version": "1.5.0",
      "model_name": "DescriptionStyleModel",
      "state": {
       "description_width": ""
      }
     },
     "627e856e21e848a2bd33abd56dd3a23a": {
      "model_module": "@jupyter-widgets/base",
      "model_module_version": "1.2.0",
      "model_name": "LayoutModel",
      "state": {}
     },
     "967bd5760a3e4e3ea830425b260c5df7": {
      "model_module": "@jupyter-widgets/base",
      "model_module_version": "1.2.0",
      "model_name": "LayoutModel",
      "state": {
       "display": "inline-flex",
       "flex_flow": "row wrap",
       "width": "700px"
      }
     },
     "bb2dda3c709347ec801b782e504cdb61": {
      "model_module": "@jupyter-widgets/controls",
      "model_module_version": "1.5.0",
      "model_name": "DescriptionStyleModel",
      "state": {
       "description_width": ""
      }
     },
     "c963640aad7c485cb23eff1a37e514f1": {
      "model_module": "@jupyter-widgets/base",
      "model_module_version": "1.2.0",
      "model_name": "LayoutModel",
      "state": {
       "flex": "2"
      }
     },
     "d2834094199e439491f5b00d69276f27": {
      "model_module": "@jupyter-widgets/base",
      "model_module_version": "1.2.0",
      "model_name": "LayoutModel",
      "state": {
       "flex": "2"
      }
     },
     "d45a47fa46e245bca0b29fa8859cc7a3": {
      "model_module": "@jupyter-widgets/controls",
      "model_module_version": "1.5.0",
      "model_name": "HTMLModel",
      "state": {
       "layout": "IPY_MODEL_2fd3f42ce43f46d9aa14da910d942f05",
       "style": "IPY_MODEL_bb2dda3c709347ec801b782e504cdb61",
       "value": " 0/? [00:00&lt;?, ?it/s]"
      }
     },
     "dffdd5cf868e4a5b94ee53f09e5a0f74": {
      "model_module": "@jupyter-widgets/base",
      "model_module_version": "1.2.0",
      "model_name": "LayoutModel",
      "state": {}
     },
     "ecb4dadf375245db9d6e3ed16c2b0a98": {
      "model_module": "@jupyter-widgets/controls",
      "model_module_version": "1.5.0",
      "model_name": "HTMLModel",
      "state": {
       "layout": "IPY_MODEL_47caf1644c0d432397f5ac6080a984a8",
       "style": "IPY_MODEL_5d9c02aadf58473e88af9e4653a78335",
       "value": "100%"
      }
     },
     "f3e07eeda3ae461dad75fa3ea6913f23": {
      "model_module": "@jupyter-widgets/controls",
      "model_module_version": "1.5.0",
      "model_name": "HTMLModel",
      "state": {
       "layout": "IPY_MODEL_dffdd5cf868e4a5b94ee53f09e5a0f74",
       "style": "IPY_MODEL_1ef5b7c9f7384ff9b5900759898569e0",
       "value": " 12/12 [00:08&lt;00:00,  1.45it/s]"
      }
     }
    },
    "version_major": 2,
    "version_minor": 0
   }
  }
 },
 "nbformat": 4,
 "nbformat_minor": 5
}
